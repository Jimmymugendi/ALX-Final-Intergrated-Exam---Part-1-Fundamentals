{
 "cells": [
  {
   "cell_type": "code",
   "execution_count": 1,
   "metadata": {},
   "outputs": [],
   "source": [
    "import pandas as pd\n",
    "import numpy as np\n",
    "import matplotlib.pyplot as plt"
   ]
  },
  {
   "cell_type": "code",
   "execution_count": 2,
   "metadata": {},
   "outputs": [
    {
     "data": {
      "text/html": [
       "<div>\n",
       "<style scoped>\n",
       "    .dataframe tbody tr th:only-of-type {\n",
       "        vertical-align: middle;\n",
       "    }\n",
       "\n",
       "    .dataframe tbody tr th {\n",
       "        vertical-align: top;\n",
       "    }\n",
       "\n",
       "    .dataframe thead th {\n",
       "        text-align: right;\n",
       "    }\n",
       "</style>\n",
       "<table border=\"1\" class=\"dataframe\">\n",
       "  <thead>\n",
       "    <tr style=\"text-align: right;\">\n",
       "      <th></th>\n",
       "      <th>Name</th>\n",
       "      <th>Age</th>\n",
       "      <th>Nationality</th>\n",
       "      <th>Overall</th>\n",
       "      <th>Acceleration</th>\n",
       "      <th>Aggression</th>\n",
       "      <th>Agility</th>\n",
       "      <th>Balance</th>\n",
       "      <th>Ball control</th>\n",
       "      <th>Composure</th>\n",
       "      <th>...</th>\n",
       "      <th>Shot power</th>\n",
       "      <th>Sliding tackle</th>\n",
       "      <th>Sprint speed</th>\n",
       "      <th>Stamina</th>\n",
       "      <th>Standing tackle</th>\n",
       "      <th>Strength</th>\n",
       "      <th>Vision</th>\n",
       "      <th>Volleys</th>\n",
       "      <th>Preferred Positions</th>\n",
       "      <th>Preferred Positions Type</th>\n",
       "    </tr>\n",
       "  </thead>\n",
       "  <tbody>\n",
       "    <tr>\n",
       "      <th>0</th>\n",
       "      <td>Cristiano Ronaldo</td>\n",
       "      <td>32</td>\n",
       "      <td>Portugal</td>\n",
       "      <td>94.0</td>\n",
       "      <td>89.0</td>\n",
       "      <td>63.0</td>\n",
       "      <td>89.0</td>\n",
       "      <td>63.0</td>\n",
       "      <td>93.0</td>\n",
       "      <td>95.0</td>\n",
       "      <td>...</td>\n",
       "      <td>94.0</td>\n",
       "      <td>23.0</td>\n",
       "      <td>91.0</td>\n",
       "      <td>92.0</td>\n",
       "      <td>31.0</td>\n",
       "      <td>80.0</td>\n",
       "      <td>85.0</td>\n",
       "      <td>88.0</td>\n",
       "      <td>ST LW</td>\n",
       "      <td>Forward</td>\n",
       "    </tr>\n",
       "    <tr>\n",
       "      <th>1</th>\n",
       "      <td>L. Messi</td>\n",
       "      <td>30</td>\n",
       "      <td>Argentina</td>\n",
       "      <td>93.0</td>\n",
       "      <td>92.0</td>\n",
       "      <td>48.0</td>\n",
       "      <td>90.0</td>\n",
       "      <td>95.0</td>\n",
       "      <td>95.0</td>\n",
       "      <td>96.0</td>\n",
       "      <td>...</td>\n",
       "      <td>85.0</td>\n",
       "      <td>26.0</td>\n",
       "      <td>87.0</td>\n",
       "      <td>73.0</td>\n",
       "      <td>28.0</td>\n",
       "      <td>59.0</td>\n",
       "      <td>90.0</td>\n",
       "      <td>85.0</td>\n",
       "      <td>RW</td>\n",
       "      <td>Forward</td>\n",
       "    </tr>\n",
       "    <tr>\n",
       "      <th>2</th>\n",
       "      <td>Neymar</td>\n",
       "      <td>25</td>\n",
       "      <td>Brazil</td>\n",
       "      <td>92.0</td>\n",
       "      <td>94.0</td>\n",
       "      <td>56.0</td>\n",
       "      <td>96.0</td>\n",
       "      <td>82.0</td>\n",
       "      <td>95.0</td>\n",
       "      <td>92.0</td>\n",
       "      <td>...</td>\n",
       "      <td>80.0</td>\n",
       "      <td>33.0</td>\n",
       "      <td>90.0</td>\n",
       "      <td>78.0</td>\n",
       "      <td>24.0</td>\n",
       "      <td>53.0</td>\n",
       "      <td>80.0</td>\n",
       "      <td>83.0</td>\n",
       "      <td>LW</td>\n",
       "      <td>Forward</td>\n",
       "    </tr>\n",
       "    <tr>\n",
       "      <th>3</th>\n",
       "      <td>L. Suárez</td>\n",
       "      <td>30</td>\n",
       "      <td>Uruguay</td>\n",
       "      <td>92.0</td>\n",
       "      <td>88.0</td>\n",
       "      <td>78.0</td>\n",
       "      <td>86.0</td>\n",
       "      <td>60.0</td>\n",
       "      <td>91.0</td>\n",
       "      <td>83.0</td>\n",
       "      <td>...</td>\n",
       "      <td>87.0</td>\n",
       "      <td>38.0</td>\n",
       "      <td>77.0</td>\n",
       "      <td>89.0</td>\n",
       "      <td>45.0</td>\n",
       "      <td>80.0</td>\n",
       "      <td>84.0</td>\n",
       "      <td>88.0</td>\n",
       "      <td>ST</td>\n",
       "      <td>Forward</td>\n",
       "    </tr>\n",
       "    <tr>\n",
       "      <th>4</th>\n",
       "      <td>M. Neuer</td>\n",
       "      <td>31</td>\n",
       "      <td>Germany</td>\n",
       "      <td>92.0</td>\n",
       "      <td>58.0</td>\n",
       "      <td>29.0</td>\n",
       "      <td>52.0</td>\n",
       "      <td>35.0</td>\n",
       "      <td>48.0</td>\n",
       "      <td>70.0</td>\n",
       "      <td>...</td>\n",
       "      <td>25.0</td>\n",
       "      <td>11.0</td>\n",
       "      <td>61.0</td>\n",
       "      <td>44.0</td>\n",
       "      <td>10.0</td>\n",
       "      <td>83.0</td>\n",
       "      <td>70.0</td>\n",
       "      <td>11.0</td>\n",
       "      <td>GK</td>\n",
       "      <td>GoalKeeper</td>\n",
       "    </tr>\n",
       "    <tr>\n",
       "      <th>...</th>\n",
       "      <td>...</td>\n",
       "      <td>...</td>\n",
       "      <td>...</td>\n",
       "      <td>...</td>\n",
       "      <td>...</td>\n",
       "      <td>...</td>\n",
       "      <td>...</td>\n",
       "      <td>...</td>\n",
       "      <td>...</td>\n",
       "      <td>...</td>\n",
       "      <td>...</td>\n",
       "      <td>...</td>\n",
       "      <td>...</td>\n",
       "      <td>...</td>\n",
       "      <td>...</td>\n",
       "      <td>...</td>\n",
       "      <td>...</td>\n",
       "      <td>...</td>\n",
       "      <td>...</td>\n",
       "      <td>...</td>\n",
       "      <td>...</td>\n",
       "    </tr>\n",
       "    <tr>\n",
       "      <th>17976</th>\n",
       "      <td>A. Kelsey</td>\n",
       "      <td>17</td>\n",
       "      <td>England</td>\n",
       "      <td>46.0</td>\n",
       "      <td>24.0</td>\n",
       "      <td>16.0</td>\n",
       "      <td>38.0</td>\n",
       "      <td>26.0</td>\n",
       "      <td>12.0</td>\n",
       "      <td>23.0</td>\n",
       "      <td>...</td>\n",
       "      <td>19.0</td>\n",
       "      <td>10.0</td>\n",
       "      <td>32.0</td>\n",
       "      <td>28.0</td>\n",
       "      <td>11.0</td>\n",
       "      <td>50.0</td>\n",
       "      <td>26.0</td>\n",
       "      <td>6.0</td>\n",
       "      <td>GK</td>\n",
       "      <td>GoalKeeper</td>\n",
       "    </tr>\n",
       "    <tr>\n",
       "      <th>17977</th>\n",
       "      <td>B. Richardson</td>\n",
       "      <td>47</td>\n",
       "      <td>England</td>\n",
       "      <td>46.0</td>\n",
       "      <td>25.0</td>\n",
       "      <td>44.0</td>\n",
       "      <td>35.0</td>\n",
       "      <td>44.0</td>\n",
       "      <td>22.0</td>\n",
       "      <td>44.0</td>\n",
       "      <td>...</td>\n",
       "      <td>13.0</td>\n",
       "      <td>13.0</td>\n",
       "      <td>25.0</td>\n",
       "      <td>32.0</td>\n",
       "      <td>12.0</td>\n",
       "      <td>47.0</td>\n",
       "      <td>17.0</td>\n",
       "      <td>12.0</td>\n",
       "      <td>GK</td>\n",
       "      <td>GoalKeeper</td>\n",
       "    </tr>\n",
       "    <tr>\n",
       "      <th>17978</th>\n",
       "      <td>J. Young</td>\n",
       "      <td>17</td>\n",
       "      <td>Scotland</td>\n",
       "      <td>46.0</td>\n",
       "      <td>66.0</td>\n",
       "      <td>26.0</td>\n",
       "      <td>60.0</td>\n",
       "      <td>77.0</td>\n",
       "      <td>41.0</td>\n",
       "      <td>50.0</td>\n",
       "      <td>...</td>\n",
       "      <td>42.0</td>\n",
       "      <td>14.0</td>\n",
       "      <td>51.0</td>\n",
       "      <td>33.0</td>\n",
       "      <td>17.0</td>\n",
       "      <td>32.0</td>\n",
       "      <td>37.0</td>\n",
       "      <td>33.0</td>\n",
       "      <td>ST</td>\n",
       "      <td>Forward</td>\n",
       "    </tr>\n",
       "    <tr>\n",
       "      <th>17979</th>\n",
       "      <td>J. Lundstram</td>\n",
       "      <td>18</td>\n",
       "      <td>England</td>\n",
       "      <td>46.0</td>\n",
       "      <td>57.0</td>\n",
       "      <td>46.0</td>\n",
       "      <td>58.0</td>\n",
       "      <td>74.0</td>\n",
       "      <td>43.0</td>\n",
       "      <td>45.0</td>\n",
       "      <td>...</td>\n",
       "      <td>43.0</td>\n",
       "      <td>47.0</td>\n",
       "      <td>58.0</td>\n",
       "      <td>49.0</td>\n",
       "      <td>48.0</td>\n",
       "      <td>46.0</td>\n",
       "      <td>51.0</td>\n",
       "      <td>25.0</td>\n",
       "      <td>CM</td>\n",
       "      <td>Midfielder</td>\n",
       "    </tr>\n",
       "    <tr>\n",
       "      <th>17980</th>\n",
       "      <td>L. Sackey</td>\n",
       "      <td>18</td>\n",
       "      <td>Ghana</td>\n",
       "      <td>46.0</td>\n",
       "      <td>48.0</td>\n",
       "      <td>52.0</td>\n",
       "      <td>49.0</td>\n",
       "      <td>47.0</td>\n",
       "      <td>32.0</td>\n",
       "      <td>33.0</td>\n",
       "      <td>...</td>\n",
       "      <td>21.0</td>\n",
       "      <td>43.0</td>\n",
       "      <td>49.0</td>\n",
       "      <td>55.0</td>\n",
       "      <td>44.0</td>\n",
       "      <td>67.0</td>\n",
       "      <td>22.0</td>\n",
       "      <td>19.0</td>\n",
       "      <td>ST CB</td>\n",
       "      <td>Back</td>\n",
       "    </tr>\n",
       "  </tbody>\n",
       "</table>\n",
       "<p>17981 rows × 40 columns</p>\n",
       "</div>"
      ],
      "text/plain": [
       "                    Name  Age Nationality  Overall  Acceleration  Aggression  \\\n",
       "0      Cristiano Ronaldo   32    Portugal     94.0          89.0        63.0   \n",
       "1               L. Messi   30   Argentina     93.0          92.0        48.0   \n",
       "2                 Neymar   25      Brazil     92.0          94.0        56.0   \n",
       "3              L. Suárez   30     Uruguay     92.0          88.0        78.0   \n",
       "4               M. Neuer   31     Germany     92.0          58.0        29.0   \n",
       "...                  ...  ...         ...      ...           ...         ...   \n",
       "17976          A. Kelsey   17     England     46.0          24.0        16.0   \n",
       "17977      B. Richardson   47     England     46.0          25.0        44.0   \n",
       "17978           J. Young   17    Scotland     46.0          66.0        26.0   \n",
       "17979       J. Lundstram   18     England     46.0          57.0        46.0   \n",
       "17980          L. Sackey   18       Ghana     46.0          48.0        52.0   \n",
       "\n",
       "       Agility  Balance  Ball control  Composure  ...  Shot power  \\\n",
       "0         89.0     63.0          93.0       95.0  ...        94.0   \n",
       "1         90.0     95.0          95.0       96.0  ...        85.0   \n",
       "2         96.0     82.0          95.0       92.0  ...        80.0   \n",
       "3         86.0     60.0          91.0       83.0  ...        87.0   \n",
       "4         52.0     35.0          48.0       70.0  ...        25.0   \n",
       "...        ...      ...           ...        ...  ...         ...   \n",
       "17976     38.0     26.0          12.0       23.0  ...        19.0   \n",
       "17977     35.0     44.0          22.0       44.0  ...        13.0   \n",
       "17978     60.0     77.0          41.0       50.0  ...        42.0   \n",
       "17979     58.0     74.0          43.0       45.0  ...        43.0   \n",
       "17980     49.0     47.0          32.0       33.0  ...        21.0   \n",
       "\n",
       "       Sliding tackle  Sprint speed  Stamina  Standing tackle  Strength  \\\n",
       "0                23.0          91.0     92.0             31.0      80.0   \n",
       "1                26.0          87.0     73.0             28.0      59.0   \n",
       "2                33.0          90.0     78.0             24.0      53.0   \n",
       "3                38.0          77.0     89.0             45.0      80.0   \n",
       "4                11.0          61.0     44.0             10.0      83.0   \n",
       "...               ...           ...      ...              ...       ...   \n",
       "17976            10.0          32.0     28.0             11.0      50.0   \n",
       "17977            13.0          25.0     32.0             12.0      47.0   \n",
       "17978            14.0          51.0     33.0             17.0      32.0   \n",
       "17979            47.0          58.0     49.0             48.0      46.0   \n",
       "17980            43.0          49.0     55.0             44.0      67.0   \n",
       "\n",
       "       Vision  Volleys  Preferred Positions  Preferred Positions Type  \n",
       "0        85.0     88.0               ST LW                    Forward  \n",
       "1        90.0     85.0                  RW                    Forward  \n",
       "2        80.0     83.0                  LW                    Forward  \n",
       "3        84.0     88.0                  ST                    Forward  \n",
       "4        70.0     11.0                  GK                 GoalKeeper  \n",
       "...       ...      ...                  ...                       ...  \n",
       "17976    26.0      6.0                  GK                 GoalKeeper  \n",
       "17977    17.0     12.0                  GK                 GoalKeeper  \n",
       "17978    37.0     33.0                  ST                    Forward  \n",
       "17979    51.0     25.0                  CM                 Midfielder  \n",
       "17980    22.0     19.0               ST CB                       Back  \n",
       "\n",
       "[17981 rows x 40 columns]"
      ]
     },
     "execution_count": 2,
     "metadata": {},
     "output_type": "execute_result"
    }
   ],
   "source": [
    "df = pd.read_csv(\"football_players.csv\", encoding=\"ISO-8859-1\")\n",
    "df"
   ]
  },
  {
   "cell_type": "code",
   "execution_count": 5,
   "metadata": {},
   "outputs": [
    {
     "data": {
      "text/html": [
       "<div>\n",
       "<style scoped>\n",
       "    .dataframe tbody tr th:only-of-type {\n",
       "        vertical-align: middle;\n",
       "    }\n",
       "\n",
       "    .dataframe tbody tr th {\n",
       "        vertical-align: top;\n",
       "    }\n",
       "\n",
       "    .dataframe thead th {\n",
       "        text-align: right;\n",
       "    }\n",
       "</style>\n",
       "<table border=\"1\" class=\"dataframe\">\n",
       "  <thead>\n",
       "    <tr style=\"text-align: right;\">\n",
       "      <th></th>\n",
       "      <th>Age</th>\n",
       "      <th>Overall</th>\n",
       "      <th>Acceleration</th>\n",
       "      <th>Aggression</th>\n",
       "      <th>Agility</th>\n",
       "      <th>Balance</th>\n",
       "      <th>Ball control</th>\n",
       "      <th>Composure</th>\n",
       "      <th>Crossing</th>\n",
       "      <th>Curve</th>\n",
       "      <th>...</th>\n",
       "      <th>Reactions</th>\n",
       "      <th>Short passing</th>\n",
       "      <th>Shot power</th>\n",
       "      <th>Sliding tackle</th>\n",
       "      <th>Sprint speed</th>\n",
       "      <th>Stamina</th>\n",
       "      <th>Standing tackle</th>\n",
       "      <th>Strength</th>\n",
       "      <th>Vision</th>\n",
       "      <th>Volleys</th>\n",
       "    </tr>\n",
       "  </thead>\n",
       "  <tbody>\n",
       "    <tr>\n",
       "      <th>count</th>\n",
       "      <td>17981.000000</td>\n",
       "      <td>17981.000000</td>\n",
       "      <td>17981.000000</td>\n",
       "      <td>17981.000000</td>\n",
       "      <td>17981.000000</td>\n",
       "      <td>17981.000000</td>\n",
       "      <td>17981.000000</td>\n",
       "      <td>17981.000000</td>\n",
       "      <td>17981.00000</td>\n",
       "      <td>17981.000000</td>\n",
       "      <td>...</td>\n",
       "      <td>17981.000000</td>\n",
       "      <td>17981.000000</td>\n",
       "      <td>17981.000000</td>\n",
       "      <td>17981.000000</td>\n",
       "      <td>17981.000000</td>\n",
       "      <td>17981.000000</td>\n",
       "      <td>17981.000000</td>\n",
       "      <td>17981.000000</td>\n",
       "      <td>17981.000000</td>\n",
       "      <td>17981.000000</td>\n",
       "    </tr>\n",
       "    <tr>\n",
       "      <th>mean</th>\n",
       "      <td>25.144541</td>\n",
       "      <td>66.247984</td>\n",
       "      <td>64.532618</td>\n",
       "      <td>55.789055</td>\n",
       "      <td>63.281464</td>\n",
       "      <td>63.775596</td>\n",
       "      <td>58.004783</td>\n",
       "      <td>57.815472</td>\n",
       "      <td>49.71709</td>\n",
       "      <td>47.290028</td>\n",
       "      <td>...</td>\n",
       "      <td>61.800178</td>\n",
       "      <td>58.203215</td>\n",
       "      <td>55.612980</td>\n",
       "      <td>45.504977</td>\n",
       "      <td>64.737501</td>\n",
       "      <td>63.166342</td>\n",
       "      <td>47.353874</td>\n",
       "      <td>65.202658</td>\n",
       "      <td>52.955731</td>\n",
       "      <td>43.212725</td>\n",
       "    </tr>\n",
       "    <tr>\n",
       "      <th>std</th>\n",
       "      <td>4.614272</td>\n",
       "      <td>6.987965</td>\n",
       "      <td>14.988620</td>\n",
       "      <td>17.485234</td>\n",
       "      <td>14.869227</td>\n",
       "      <td>14.144136</td>\n",
       "      <td>16.887647</td>\n",
       "      <td>13.019767</td>\n",
       "      <td>18.48589</td>\n",
       "      <td>18.468629</td>\n",
       "      <td>...</td>\n",
       "      <td>9.394082</td>\n",
       "      <td>15.018682</td>\n",
       "      <td>17.428851</td>\n",
       "      <td>21.486052</td>\n",
       "      <td>14.743693</td>\n",
       "      <td>16.019221</td>\n",
       "      <td>21.838839</td>\n",
       "      <td>12.734994</td>\n",
       "      <td>14.431258</td>\n",
       "      <td>17.742067</td>\n",
       "    </tr>\n",
       "    <tr>\n",
       "      <th>min</th>\n",
       "      <td>16.000000</td>\n",
       "      <td>46.000000</td>\n",
       "      <td>11.000000</td>\n",
       "      <td>11.000000</td>\n",
       "      <td>12.000000</td>\n",
       "      <td>11.000000</td>\n",
       "      <td>8.000000</td>\n",
       "      <td>5.000000</td>\n",
       "      <td>5.00000</td>\n",
       "      <td>6.000000</td>\n",
       "      <td>...</td>\n",
       "      <td>14.000000</td>\n",
       "      <td>10.000000</td>\n",
       "      <td>3.000000</td>\n",
       "      <td>4.000000</td>\n",
       "      <td>11.000000</td>\n",
       "      <td>12.000000</td>\n",
       "      <td>4.000000</td>\n",
       "      <td>12.000000</td>\n",
       "      <td>10.000000</td>\n",
       "      <td>4.000000</td>\n",
       "    </tr>\n",
       "    <tr>\n",
       "      <th>25%</th>\n",
       "      <td>21.000000</td>\n",
       "      <td>62.000000</td>\n",
       "      <td>56.000000</td>\n",
       "      <td>43.000000</td>\n",
       "      <td>55.000000</td>\n",
       "      <td>56.000000</td>\n",
       "      <td>53.000000</td>\n",
       "      <td>51.000000</td>\n",
       "      <td>37.00000</td>\n",
       "      <td>34.000000</td>\n",
       "      <td>...</td>\n",
       "      <td>55.000000</td>\n",
       "      <td>53.000000</td>\n",
       "      <td>46.000000</td>\n",
       "      <td>24.000000</td>\n",
       "      <td>57.000000</td>\n",
       "      <td>56.000000</td>\n",
       "      <td>26.000000</td>\n",
       "      <td>58.000000</td>\n",
       "      <td>43.000000</td>\n",
       "      <td>30.000000</td>\n",
       "    </tr>\n",
       "    <tr>\n",
       "      <th>50%</th>\n",
       "      <td>25.000000</td>\n",
       "      <td>66.000000</td>\n",
       "      <td>67.000000</td>\n",
       "      <td>59.000000</td>\n",
       "      <td>65.000000</td>\n",
       "      <td>66.000000</td>\n",
       "      <td>63.000000</td>\n",
       "      <td>60.000000</td>\n",
       "      <td>54.00000</td>\n",
       "      <td>48.000000</td>\n",
       "      <td>...</td>\n",
       "      <td>62.000000</td>\n",
       "      <td>62.000000</td>\n",
       "      <td>59.000000</td>\n",
       "      <td>51.000000</td>\n",
       "      <td>67.000000</td>\n",
       "      <td>66.000000</td>\n",
       "      <td>54.000000</td>\n",
       "      <td>66.000000</td>\n",
       "      <td>54.000000</td>\n",
       "      <td>44.000000</td>\n",
       "    </tr>\n",
       "    <tr>\n",
       "      <th>75%</th>\n",
       "      <td>28.000000</td>\n",
       "      <td>71.000000</td>\n",
       "      <td>75.000000</td>\n",
       "      <td>69.000000</td>\n",
       "      <td>74.000000</td>\n",
       "      <td>74.000000</td>\n",
       "      <td>69.000000</td>\n",
       "      <td>67.000000</td>\n",
       "      <td>64.00000</td>\n",
       "      <td>62.000000</td>\n",
       "      <td>...</td>\n",
       "      <td>68.000000</td>\n",
       "      <td>68.000000</td>\n",
       "      <td>69.000000</td>\n",
       "      <td>64.000000</td>\n",
       "      <td>75.000000</td>\n",
       "      <td>74.000000</td>\n",
       "      <td>66.000000</td>\n",
       "      <td>74.000000</td>\n",
       "      <td>64.000000</td>\n",
       "      <td>57.000000</td>\n",
       "    </tr>\n",
       "    <tr>\n",
       "      <th>max</th>\n",
       "      <td>47.000000</td>\n",
       "      <td>94.000000</td>\n",
       "      <td>96.000000</td>\n",
       "      <td>96.000000</td>\n",
       "      <td>96.000000</td>\n",
       "      <td>96.000000</td>\n",
       "      <td>95.000000</td>\n",
       "      <td>96.000000</td>\n",
       "      <td>91.00000</td>\n",
       "      <td>92.000000</td>\n",
       "      <td>...</td>\n",
       "      <td>96.000000</td>\n",
       "      <td>92.000000</td>\n",
       "      <td>94.000000</td>\n",
       "      <td>91.000000</td>\n",
       "      <td>96.000000</td>\n",
       "      <td>95.000000</td>\n",
       "      <td>92.000000</td>\n",
       "      <td>98.000000</td>\n",
       "      <td>94.000000</td>\n",
       "      <td>91.000000</td>\n",
       "    </tr>\n",
       "  </tbody>\n",
       "</table>\n",
       "<p>8 rows × 36 columns</p>\n",
       "</div>"
      ],
      "text/plain": [
       "                Age       Overall  Acceleration    Aggression       Agility  \\\n",
       "count  17981.000000  17981.000000  17981.000000  17981.000000  17981.000000   \n",
       "mean      25.144541     66.247984     64.532618     55.789055     63.281464   \n",
       "std        4.614272      6.987965     14.988620     17.485234     14.869227   \n",
       "min       16.000000     46.000000     11.000000     11.000000     12.000000   \n",
       "25%       21.000000     62.000000     56.000000     43.000000     55.000000   \n",
       "50%       25.000000     66.000000     67.000000     59.000000     65.000000   \n",
       "75%       28.000000     71.000000     75.000000     69.000000     74.000000   \n",
       "max       47.000000     94.000000     96.000000     96.000000     96.000000   \n",
       "\n",
       "            Balance  Ball control     Composure     Crossing         Curve  \\\n",
       "count  17981.000000  17981.000000  17981.000000  17981.00000  17981.000000   \n",
       "mean      63.775596     58.004783     57.815472     49.71709     47.290028   \n",
       "std       14.144136     16.887647     13.019767     18.48589     18.468629   \n",
       "min       11.000000      8.000000      5.000000      5.00000      6.000000   \n",
       "25%       56.000000     53.000000     51.000000     37.00000     34.000000   \n",
       "50%       66.000000     63.000000     60.000000     54.00000     48.000000   \n",
       "75%       74.000000     69.000000     67.000000     64.00000     62.000000   \n",
       "max       96.000000     95.000000     96.000000     91.00000     92.000000   \n",
       "\n",
       "       ...     Reactions  Short passing    Shot power  Sliding tackle  \\\n",
       "count  ...  17981.000000   17981.000000  17981.000000    17981.000000   \n",
       "mean   ...     61.800178      58.203215     55.612980       45.504977   \n",
       "std    ...      9.394082      15.018682     17.428851       21.486052   \n",
       "min    ...     14.000000      10.000000      3.000000        4.000000   \n",
       "25%    ...     55.000000      53.000000     46.000000       24.000000   \n",
       "50%    ...     62.000000      62.000000     59.000000       51.000000   \n",
       "75%    ...     68.000000      68.000000     69.000000       64.000000   \n",
       "max    ...     96.000000      92.000000     94.000000       91.000000   \n",
       "\n",
       "       Sprint speed       Stamina  Standing tackle      Strength  \\\n",
       "count  17981.000000  17981.000000     17981.000000  17981.000000   \n",
       "mean      64.737501     63.166342        47.353874     65.202658   \n",
       "std       14.743693     16.019221        21.838839     12.734994   \n",
       "min       11.000000     12.000000         4.000000     12.000000   \n",
       "25%       57.000000     56.000000        26.000000     58.000000   \n",
       "50%       67.000000     66.000000        54.000000     66.000000   \n",
       "75%       75.000000     74.000000        66.000000     74.000000   \n",
       "max       96.000000     95.000000        92.000000     98.000000   \n",
       "\n",
       "             Vision       Volleys  \n",
       "count  17981.000000  17981.000000  \n",
       "mean      52.955731     43.212725  \n",
       "std       14.431258     17.742067  \n",
       "min       10.000000      4.000000  \n",
       "25%       43.000000     30.000000  \n",
       "50%       54.000000     44.000000  \n",
       "75%       64.000000     57.000000  \n",
       "max       94.000000     91.000000  \n",
       "\n",
       "[8 rows x 36 columns]"
      ]
     },
     "execution_count": 5,
     "metadata": {},
     "output_type": "execute_result"
    }
   ],
   "source": [
    "df.describe()"
   ]
  },
  {
   "cell_type": "code",
   "execution_count": 4,
   "metadata": {},
   "outputs": [
    {
     "name": "stdout",
     "output_type": "stream",
     "text": [
      "<class 'pandas.core.frame.DataFrame'>\n",
      "RangeIndex: 17981 entries, 0 to 17980\n",
      "Data columns (total 40 columns):\n",
      " #   Column                    Non-Null Count  Dtype  \n",
      "---  ------                    --------------  -----  \n",
      " 0   Name                      17981 non-null  object \n",
      " 1   Age                       17981 non-null  int64  \n",
      " 2   Nationality               17981 non-null  object \n",
      " 3   Overall                   17981 non-null  float64\n",
      " 4   Acceleration              17981 non-null  float64\n",
      " 5   Aggression                17981 non-null  float64\n",
      " 6   Agility                   17981 non-null  float64\n",
      " 7   Balance                   17981 non-null  float64\n",
      " 8   Ball control              17981 non-null  float64\n",
      " 9   Composure                 17981 non-null  float64\n",
      " 10  Crossing                  17981 non-null  float64\n",
      " 11  Curve                     17981 non-null  float64\n",
      " 12  Dribbling                 17981 non-null  float64\n",
      " 13  Finishing                 17981 non-null  float64\n",
      " 14  Free kick accuracy        17981 non-null  float64\n",
      " 15  GK diving                 17981 non-null  float64\n",
      " 16  GK handling               17981 non-null  float64\n",
      " 17  GK kicking                17981 non-null  float64\n",
      " 18  GK positioning            17981 non-null  float64\n",
      " 19  GK reflexes               17981 non-null  float64\n",
      " 20  Heading accuracy          17981 non-null  float64\n",
      " 21  Interceptions             17981 non-null  float64\n",
      " 22  Jumping                   17981 non-null  float64\n",
      " 23  Long passing              17981 non-null  float64\n",
      " 24  Long shots                17981 non-null  float64\n",
      " 25  Marking                   17981 non-null  float64\n",
      " 26  Penalties                 17981 non-null  float64\n",
      " 27  Positioning               17981 non-null  float64\n",
      " 28  Reactions                 17981 non-null  float64\n",
      " 29  Short passing             17981 non-null  float64\n",
      " 30  Shot power                17981 non-null  float64\n",
      " 31  Sliding tackle            17981 non-null  float64\n",
      " 32  Sprint speed              17981 non-null  float64\n",
      " 33  Stamina                   17981 non-null  float64\n",
      " 34  Standing tackle           17981 non-null  float64\n",
      " 35  Strength                  17981 non-null  float64\n",
      " 36  Vision                    17981 non-null  float64\n",
      " 37  Volleys                   17981 non-null  float64\n",
      " 38  Preferred Positions       17981 non-null  object \n",
      " 39  Preferred Positions Type  17981 non-null  object \n",
      "dtypes: float64(35), int64(1), object(4)\n",
      "memory usage: 5.5+ MB\n"
     ]
    }
   ],
   "source": [
    "df.info()"
   ]
  },
  {
   "cell_type": "code",
   "execution_count": 6,
   "metadata": {},
   "outputs": [
    {
     "ename": "TypeError",
     "evalue": "'DataFrame' object is not callable",
     "output_type": "error",
     "traceback": [
      "\u001b[1;31m---------------------------------------------------------------------------\u001b[0m",
      "\u001b[1;31mTypeError\u001b[0m                                 Traceback (most recent call last)",
      "Cell \u001b[1;32mIn[6], line 1\u001b[0m\n\u001b[1;32m----> 1\u001b[0m \u001b[43mdf\u001b[49m\u001b[43m(\u001b[49m\u001b[38;5;241;43m5\u001b[39;49m\u001b[43m)\u001b[49m\n",
      "\u001b[1;31mTypeError\u001b[0m: 'DataFrame' object is not callable"
     ]
    }
   ],
   "source": [
    "df(5)"
   ]
  },
  {
   "cell_type": "code",
   "execution_count": 14,
   "metadata": {},
   "outputs": [
    {
     "data": {
      "text/plain": [
       "2"
      ]
     },
     "execution_count": 14,
     "metadata": {},
     "output_type": "execute_result"
    }
   ],
   "source": [
    "a = np.array([[2,3,4,5,6],\n",
    "              [7,8,9,10,11],\n",
    "              [10,11,12,13,14]])\n",
    "a[0,0]"
   ]
  },
  {
   "cell_type": "code",
   "execution_count": 16,
   "metadata": {},
   "outputs": [],
   "source": [
    "b = np.array([[1,2,3],\n",
    "              [4,5,6],\n",
    "              ])"
   ]
  },
  {
   "cell_type": "code",
   "execution_count": 22,
   "metadata": {},
   "outputs": [
    {
     "ename": "ValueError",
     "evalue": "all the input array dimensions except for the concatenation axis must match exactly, but along dimension 0, the array at index 0 has size 2 and the array at index 1 has size 1",
     "output_type": "error",
     "traceback": [
      "\u001b[1;31m---------------------------------------------------------------------------\u001b[0m",
      "\u001b[1;31mValueError\u001b[0m                                Traceback (most recent call last)",
      "Cell \u001b[1;32mIn[22], line 1\u001b[0m\n\u001b[1;32m----> 1\u001b[0m \u001b[43mnp\u001b[49m\u001b[38;5;241;43m.\u001b[39;49m\u001b[43mappend\u001b[49m\u001b[43m(\u001b[49m\u001b[43mb\u001b[49m\u001b[43m,\u001b[49m\u001b[43m \u001b[49m\u001b[43m[\u001b[49m\u001b[43m[\u001b[49m\u001b[38;5;241;43m92\u001b[39;49m\u001b[43m,\u001b[49m\u001b[43m \u001b[49m\u001b[38;5;241;43m88\u001b[39;49m\u001b[43m,\u001b[49m\u001b[43m \u001b[49m\u001b[38;5;241;43m78\u001b[39;49m\u001b[43m]\u001b[49m\u001b[43m]\u001b[49m\u001b[43m,\u001b[49m\u001b[43m \u001b[49m\u001b[43maxis\u001b[49m\u001b[38;5;241;43m=\u001b[39;49m\u001b[38;5;241;43m1\u001b[39;49m\u001b[43m)\u001b[49m\n",
      "File \u001b[1;32mc:\\Users\\JIMMY\\AppData\\Local\\Programs\\Python\\Python311\\Lib\\site-packages\\numpy\\lib\\function_base.py:5617\u001b[0m, in \u001b[0;36mappend\u001b[1;34m(arr, values, axis)\u001b[0m\n\u001b[0;32m   5615\u001b[0m     values \u001b[38;5;241m=\u001b[39m ravel(values)\n\u001b[0;32m   5616\u001b[0m     axis \u001b[38;5;241m=\u001b[39m arr\u001b[38;5;241m.\u001b[39mndim\u001b[38;5;241m-\u001b[39m\u001b[38;5;241m1\u001b[39m\n\u001b[1;32m-> 5617\u001b[0m \u001b[38;5;28;01mreturn\u001b[39;00m \u001b[43mconcatenate\u001b[49m\u001b[43m(\u001b[49m\u001b[43m(\u001b[49m\u001b[43marr\u001b[49m\u001b[43m,\u001b[49m\u001b[43m \u001b[49m\u001b[43mvalues\u001b[49m\u001b[43m)\u001b[49m\u001b[43m,\u001b[49m\u001b[43m \u001b[49m\u001b[43maxis\u001b[49m\u001b[38;5;241;43m=\u001b[39;49m\u001b[43maxis\u001b[49m\u001b[43m)\u001b[49m\n",
      "\u001b[1;31mValueError\u001b[0m: all the input array dimensions except for the concatenation axis must match exactly, but along dimension 0, the array at index 0 has size 2 and the array at index 1 has size 1"
     ]
    }
   ],
   "source": [
    "np.append(b, [[92, 88, 78]], axis=1)"
   ]
  },
  {
   "cell_type": "code",
   "execution_count": 27,
   "metadata": {},
   "outputs": [],
   "source": [
    "# np.append(b, [[92, 88, 78]], axis=0)"
   ]
  },
  {
   "cell_type": "code",
   "execution_count": 30,
   "metadata": {},
   "outputs": [
    {
     "data": {
      "text/plain": [
       "Name                          M. Neuer\n",
       "Age                                 31\n",
       "Nationality                    Germany\n",
       "Overall                           92.0\n",
       "Acceleration                      58.0\n",
       "Aggression                        29.0\n",
       "Agility                           52.0\n",
       "Balance                           35.0\n",
       "Ball control                      48.0\n",
       "Composure                         70.0\n",
       "Crossing                          15.0\n",
       "Curve                             14.0\n",
       "Dribbling                         30.0\n",
       "Finishing                         13.0\n",
       "Free kick accuracy                11.0\n",
       "GK diving                         91.0\n",
       "GK handling                       90.0\n",
       "GK kicking                        95.0\n",
       "GK positioning                    91.0\n",
       "GK reflexes                       89.0\n",
       "Heading accuracy                  25.0\n",
       "Interceptions                     30.0\n",
       "Jumping                           78.0\n",
       "Long passing                      59.0\n",
       "Long shots                        16.0\n",
       "Marking                           10.0\n",
       "Penalties                         47.0\n",
       "Positioning                       12.0\n",
       "Reactions                         85.0\n",
       "Short passing                     55.0\n",
       "Shot power                        25.0\n",
       "Sliding tackle                    11.0\n",
       "Sprint speed                      61.0\n",
       "Stamina                           44.0\n",
       "Standing tackle                   10.0\n",
       "Strength                          83.0\n",
       "Vision                            70.0\n",
       "Volleys                           11.0\n",
       "Preferred Positions                GK \n",
       "Preferred Positions Type    GoalKeeper\n",
       "Name: 4, dtype: object"
      ]
     },
     "execution_count": 30,
     "metadata": {},
     "output_type": "execute_result"
    }
   ],
   "source": [
    "# How would you select the 5th row of a Pandas DataFrame, df, with names as indices? (1 mark)\n",
    "df.loc[4]"
   ]
  },
  {
   "cell_type": "code",
   "execution_count": 33,
   "metadata": {},
   "outputs": [],
   "source": [
    "# How would you create a new column to transform a column ‘Age’ from years to decades?\n",
    "df['decades'] = df['Age'].apply(lambda x:x/10)"
   ]
  },
  {
   "cell_type": "code",
   "execution_count": 34,
   "metadata": {},
   "outputs": [
    {
     "data": {
      "text/plain": [
       "0        3.2\n",
       "1        3.0\n",
       "2        2.5\n",
       "3        3.0\n",
       "4        3.1\n",
       "        ... \n",
       "17976    1.7\n",
       "17977    4.7\n",
       "17978    1.7\n",
       "17979    1.8\n",
       "17980    1.8\n",
       "Name: decades, Length: 17981, dtype: float64"
      ]
     },
     "execution_count": 34,
     "metadata": {},
     "output_type": "execute_result"
    }
   ],
   "source": [
    "df['decades']"
   ]
  },
  {
   "cell_type": "code",
   "execution_count": 38,
   "metadata": {},
   "outputs": [],
   "source": [
    "a = df['Overall'].max()"
   ]
  },
  {
   "cell_type": "code",
   "execution_count": 48,
   "metadata": {},
   "outputs": [
    {
     "data": {
      "text/plain": [
       "94.0"
      ]
     },
     "execution_count": 48,
     "metadata": {},
     "output_type": "execute_result"
    }
   ],
   "source": [
    "a"
   ]
  },
  {
   "cell_type": "code",
   "execution_count": 53,
   "metadata": {},
   "outputs": [
    {
     "name": "stdout",
     "output_type": "stream",
     "text": [
      "0    Cristiano Ronaldo\n",
      "Name: Name, dtype: object\n"
     ]
    }
   ],
   "source": [
    "print(df['Name'][df['Overall'] == 94])"
   ]
  },
  {
   "cell_type": "code",
   "execution_count": 60,
   "metadata": {},
   "outputs": [
    {
     "name": "stdout",
     "output_type": "stream",
     "text": [
      "17192    54.0\n",
      "Name: Overall, dtype: float64\n",
      "259    82.0\n",
      "Name: Overall, dtype: float64\n",
      "143    83.0\n",
      "Name: Overall, dtype: float64\n",
      "13544    62.0\n",
      "Name: Overall, dtype: float64\n"
     ]
    }
   ],
   "source": [
    "print(df['Overall'][df['Name'] == 'I. Messaoud'])\n",
    "print(df['Overall'][df['Name'] == 'Y. Brahimi'])\n",
    "print(df['Overall'][df['Name'] == 'R. Mahrez'])\n",
    "print(df['Overall'][df['Name'] == 'M. Boulahia'])"
   ]
  },
  {
   "cell_type": "code",
   "execution_count": 49,
   "metadata": {},
   "outputs": [
    {
     "name": "stdout",
     "output_type": "stream",
     "text": [
      "The Algeria player with the highest overall rating is R. Mahrez with a rating of 83.0.\n"
     ]
    }
   ],
   "source": [
    "players_of_interest = ['L. Messaoud', 'Y. Brahimi', 'R. Mahrez', 'M. Boulahia']\n",
    "\n",
    "# Filter the DataFrame for the players of interest\n",
    "filtered_df = df[df['Name'].isin(players_of_interest)]\n",
    "\n",
    "# Find the player with the highest overall rating\n",
    "highest_rated_player = filtered_df.loc[filtered_df['Overall'].idxmax()]\n",
    "\n",
    "# Print the result\n",
    "print(f\"The Algeria player with the highest overall rating is {highest_rated_player['Name']} with a rating of {highest_rated_player['Overall']}.\")"
   ]
  },
  {
   "cell_type": "code",
   "execution_count": 61,
   "metadata": {},
   "outputs": [
    {
     "name": "stdout",
     "output_type": "stream",
     "text": [
      "17863    18.0\n",
      "Name: Sliding tackle, dtype: float64\n",
      "10    91.0\n",
      "Name: Sliding tackle, dtype: float64\n",
      "27    90.0\n",
      "Name: Sliding tackle, dtype: float64\n",
      "25    90.0\n",
      "Name: Sliding tackle, dtype: float64\n"
     ]
    }
   ],
   "source": [
    "print(df['Sliding tackle'][df['Name'] == 'R. Woodcock'])\n",
    "print(df['Sliding tackle'][df['Name'] == 'Sergio Ramos'])\n",
    "print(df['Sliding tackle'][df['Name'] == 'M. Hummels'])\n",
    "print(df['Sliding tackle'][df['Name'] == 'J. Boateng'])"
   ]
  },
  {
   "cell_type": "code",
   "execution_count": 72,
   "metadata": {},
   "outputs": [
    {
     "name": "stdout",
     "output_type": "stream",
     "text": [
      "['Forward' 'GoalKeeper' 'Midfielder' 'Back']\n"
     ]
    }
   ],
   "source": [
    "print(df['Preferred Positions Type'].unique())"
   ]
  },
  {
   "cell_type": "code",
   "execution_count": 76,
   "metadata": {},
   "outputs": [
    {
     "name": "stdout",
     "output_type": "stream",
     "text": [
      "62.51324503311258\n",
      "61.07865168539326\n",
      "63.39303482587065\n",
      "63.6691042047532\n"
     ]
    }
   ],
   "source": [
    "print(df[(df['Nationality'] == 'England') & (df['Preferred Positions Type'] == 'Forward')]['Overall'].mean())\n",
    "print(df[(df['Nationality'] == 'England') & (df['Preferred Positions Type'] == 'GoalKeeper')]['Overall'].mean())\n",
    "print(df[(df['Nationality'] == 'England') & (df['Preferred Positions Type'] == 'Midfielder')]['Overall'].mean())\n",
    "print(df[(df['Nationality'] == 'England') & (df['Preferred Positions Type'] == 'Back')]['Overall'].mean())"
   ]
  },
  {
   "cell_type": "code",
   "execution_count": 86,
   "metadata": {},
   "outputs": [
    {
     "name": "stdout",
     "output_type": "stream",
     "text": [
      "70.02890173410404\n",
      "71.49097472924188\n"
     ]
    }
   ],
   "source": [
    "# %%timeit \n",
    "\n",
    "print(df[(df['Nationality'] == 'Brazil') & (df['Preferred Positions Type'] == 'Forward')]['Overall'].mean())\n",
    "\n",
    "print(df[(df['Nationality'] == 'Brazil') & (df['Preferred Positions Type'] == 'Back')]['Overall'].mean())"
   ]
  },
  {
   "cell_type": "code",
   "execution_count": 87,
   "metadata": {},
   "outputs": [
    {
     "name": "stdout",
     "output_type": "stream",
     "text": [
      "Brazils backs have a higher average overall rating (71.49) than the forwards (70.03).\n"
     ]
    }
   ],
   "source": [
    "# %%timeit\n",
    "\n",
    "# Filter for Brazil players\n",
    "brazil_players = df[df['Nationality'] == 'Brazil']\n",
    "\n",
    "# Calculate the average overall rating for forwards\n",
    "average_forward_rating = brazil_players[brazil_players['Preferred Positions Type'] == 'Forward']['Overall'].mean()\n",
    "\n",
    "# Calculate the average overall rating for backs\n",
    "average_back_rating = brazil_players[brazil_players['Preferred Positions Type'] == 'Back']['Overall'].mean()\n",
    "\n",
    "# Compare and print the result\n",
    "if average_forward_rating > average_back_rating:\n",
    "    print(f\"Brazils forwards have a higher average overall rating ({average_forward_rating:.2f}) than the backs ({average_back_rating:.2f}).\")\n",
    "else:\n",
    "    print(f\"Brazils backs have a higher average overall rating ({average_back_rating:.2f}) than the forwards ({average_forward_rating:.2f}).\")"
   ]
  },
  {
   "cell_type": "code",
   "execution_count": 88,
   "metadata": {},
   "outputs": [
    {
     "name": "stdout",
     "output_type": "stream",
     "text": [
      "47\n"
     ]
    }
   ],
   "source": [
    "print(df['Age'].max())"
   ]
  },
  {
   "cell_type": "code",
   "execution_count": 89,
   "metadata": {},
   "outputs": [
    {
     "name": "stdout",
     "output_type": "stream",
     "text": [
      "17977    England\n",
      "Name: Nationality, dtype: object\n"
     ]
    }
   ],
   "source": [
    "print(df['Nationality'][df['Age'] == 47])"
   ]
  },
  {
   "cell_type": "code",
   "execution_count": 94,
   "metadata": {},
   "outputs": [
    {
     "name": "stdout",
     "output_type": "stream",
     "text": [
      "16.37428396640899\n",
      "16.71091707913909\n",
      "16.838885490239697\n",
      "16.490517768755907\n"
     ]
    }
   ],
   "source": [
    "print(df['GK kicking'].mean())\n",
    "print(df['GK diving'].mean())\n",
    "print(df['GK reflexes'].mean())\n",
    "print(df['GK handling'].mean())"
   ]
  },
  {
   "cell_type": "code",
   "execution_count": 95,
   "metadata": {},
   "outputs": [
    {
     "name": "stdout",
     "output_type": "stream",
     "text": [
      "Preferred Positions Type\n",
      "Midfielder    6769\n",
      "Back          5848\n",
      "Forward       3253\n",
      "GoalKeeper    2111\n",
      "Name: count, dtype: int64\n"
     ]
    }
   ],
   "source": [
    "print(df['Preferred Positions Type'].value_counts())\n"
   ]
  },
  {
   "cell_type": "code",
   "execution_count": 98,
   "metadata": {},
   "outputs": [
    {
     "name": "stdout",
     "output_type": "stream",
     "text": [
      "84.0\n"
     ]
    }
   ],
   "source": [
    "print(df[(df['Nationality'] == 'Portugal') & (df['Age'] < 25)]['Overall'].max())"
   ]
  },
  {
   "cell_type": "code",
   "execution_count": 100,
   "metadata": {},
   "outputs": [
    {
     "name": "stdout",
     "output_type": "stream",
     "text": [
      "94    Bernardo Silva\n",
      "Name: Name, dtype: object\n"
     ]
    }
   ],
   "source": [
    "print(df['Name'][(df['Overall'] == 84) & (df['Nationality'] == 'Portugal')])"
   ]
  },
  {
   "cell_type": "code",
   "execution_count": null,
   "metadata": {},
   "outputs": [],
   "source": []
  },
  {
   "cell_type": "code",
   "execution_count": null,
   "metadata": {},
   "outputs": [],
   "source": []
  }
 ],
 "metadata": {
  "kernelspec": {
   "display_name": "Python 3 (ipykernel)",
   "language": "python",
   "name": "python3"
  },
  "language_info": {
   "codemirror_mode": {
    "name": "ipython",
    "version": 3
   },
   "file_extension": ".py",
   "mimetype": "text/x-python",
   "name": "python",
   "nbconvert_exporter": "python",
   "pygments_lexer": "ipython3",
   "version": "3.11.4"
  }
 },
 "nbformat": 4,
 "nbformat_minor": 2
}
