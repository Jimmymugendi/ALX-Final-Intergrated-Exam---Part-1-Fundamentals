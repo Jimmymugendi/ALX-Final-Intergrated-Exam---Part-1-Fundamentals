{
 "cells": [
  {
   "cell_type": "markdown",
   "metadata": {},
   "source": [
    "## Part 1: Spreadsheets, SQL, Python\n",
    "\n",
    "## Instructions:\n",
    "Download the zipped file and attempt the questions. Note: This exam is not timed, and if you fail your first attempt, you'll have one additional attempt to improve your mark to a maximum of 50%.\n",
    "\n",
    "## *Spreadsheets Section (10 Questions, 10 Marks)*\n",
    "\n",
    "The zip file contains two spreadsheet files, SH_H2O_SAFE.xlsx and SDG_10_7_3.xlsx. Import them into Google Sheets and answer the questions related to each file.\n",
    "\n",
    "\n",
    "## *SQL Section (20 Questions, 40 Marks)*\n",
    "\n",
    "You should have access to a file called TMDB.db and a starter notebook.\n",
    "The first step to answering this set of questions will be to use the starter notebook provided and connect to the TMDB.db file to access the data. Based on that data, answer the questions.\n",
    "\n",
    "## *Python Section (15 Questions, 25 Marks)*\n",
    "\n",
    "The practical questions of this section should be answered by analysing the football_players.csv dataset ï¿½ the recommended tool is Python (Pandas library)."
   ]
  },
  {
   "cell_type": "markdown",
   "metadata": {},
   "source": [
    "#### Question 1/45\n",
    "Total: 75 Marks\n",
    "\n",
    "Spreadsheets: 10 Questions, 10 Marks\n",
    "\n",
    "We recommend using Google Sheets for the first 10 questions.\n",
    "\n",
    "The first set of questions will be based on the SH_H20_SAFE.xlsx file, containing data on people’s access to safely managed drinking water. The SH_H2O_SAFE.xlsx file consists of three sheets; make sure all of them are imported before answering the questions. \n",
    "\n",
    "What is the meaning of `E` in the `Nature` column in the `Record format` sheet?"
   ]
  },
  {
   "cell_type": "markdown",
   "metadata": {},
   "source": [
    "#### Question 2/45\n",
    "How many unique values (or GeoAreaNames)  are in the `GeoAreaName` column on the `Table format` sheet?"
   ]
  },
  {
   "cell_type": "markdown",
   "metadata": {},
   "source": [
    "#### Question 3/45\n",
    "How many rows are there in the `Table format` sheet for each of the three types of `Locations`? "
   ]
  },
  {
   "cell_type": "markdown",
   "metadata": {},
   "source": [
    "#### Question 4/45\n",
    "Consider the data we have on Afghanistan, for the years 2000-2022. Which of the following statements is most correct?"
   ]
  },
  {
   "cell_type": "markdown",
   "metadata": {},
   "source": [
    "#### Question 5/45\n",
    "\n",
    "Use the SDG_10_7_3.xslx data for the next 6 questions. \n",
    "\n",
    "Which one of these countries has the highest number of data points in our dataset? "
   ]
  },
  {
   "cell_type": "markdown",
   "metadata": {},
   "source": [
    "#### Question 6/45\n",
    "Which year has the most data points in this dataset? "
   ]
  },
  {
   "cell_type": "markdown",
   "metadata": {},
   "source": [
    "#### Question 7/45\n",
    "\n",
    "The GeoAreaName column contains different levels of aggregation, ranging from country, to subregions, to the World. \n",
    "\n",
    "Determine the average number of ‘Total deaths and disappearances recorded during migration’ per GeoAreaName entry, over the period 2018-2023. Express this GeoAreaName average as a proportion of the World average over that time period. What is the proportion that forms the largest share?"
   ]
  },
  {
   "cell_type": "markdown",
   "metadata": {},
   "source": [
    "#### Question 8/45\n",
    "\n",
    "Create a line graph that includes the following regions (also in GeoAreaName) over the period 2014-2023: Eastern Africa, Eastern Europe, Northern Africa, Northern America and Northern Europe.\n",
    "\n",
    "Which region shows the sharpest decline in the number of `Total deaths and disappearances recorded during migration` in 2020?"
   ]
  },
  {
   "cell_type": "markdown",
   "metadata": {},
   "source": [
    "#### Question 9/45\n",
    "What is the interquartile range for all the data (excluding World) in 2020?"
   ]
  },
  {
   "cell_type": "markdown",
   "metadata": {},
   "source": [
    "#### Question 10/45\n",
    "The UN subregion of North Africa consists of 7 countries at the northernmost part of the continent -- Algeria, Egypt, Libya, Morocco, Sudan, Tunisia, Western Sahara. Knowing this, what is most worrying to you about the regions captured in the dataset?"
   ]
  },
  {
   "cell_type": "markdown",
   "metadata": {},
   "source": [
    "#### Question 11/45\n",
    "#### Gather (20 Questions, 40 Marks) \n",
    "##### Questions 11 - 30\n",
    "\n",
    "You should have access to a file called TMDB.db and a starter notebook. (Click the Additional File button).\n",
    "\n",
    "The first step to answering this set of questions will be to use the starter notebook provided and connect to the TMDB.db file to access the data.\n",
    "\n",
    "Based on that data, answer the following questions:\n",
    "\n",
    "What is the code you can use to connect to the TMBD database that is saved in the same location as the Jupyter notebook? (1 mark)"
   ]
  },
  {
   "cell_type": "markdown",
   "metadata": {},
   "source": [
    "#### Question 12/45\n",
    "What is the primary key for the table “movies”? (1 mark)"
   ]
  },
  {
   "cell_type": "markdown",
   "metadata": {},
   "source": [
    "#### Question 13/45\n",
    "How many foreign keys does the “languagemap” table have? (1 mark)"
   ]
  },
  {
   "cell_type": "markdown",
   "metadata": {},
   "source": [
    "#### Question 14/45\n",
    "What code would you use to set up a view of all movies that did not get released? (1 mark)"
   ]
  },
  {
   "cell_type": "markdown",
   "metadata": {},
   "source": [
    "#### Question 15/45\n",
    "\n",
    "How would you select only the title, release date and release status columns from the view you created in the previous question? (1 mark)"
   ]
  },
  {
   "cell_type": "markdown",
   "metadata": {},
   "source": [
    "#### Question 16/45\n",
    "How many movies exist that no longer use their original titles? (2 marks)"
   ]
  },
  {
   "cell_type": "markdown",
   "metadata": {},
   "source": [
    "#### Question 17/45\n",
    "What is the most popular movie that was made after 01/01/2000 with a budget of more than $100 000 000? (Hint: Use the popularity field in the Movies table. Larger numbers are more popular.) (3 marks)"
   ]
  },
  {
   "cell_type": "markdown",
   "metadata": {},
   "source": [
    "#### Question 18/45\n",
    "How many movies do not have English as their original language? (2 marks)"
   ]
  },
  {
   "cell_type": "markdown",
   "metadata": {},
   "source": [
    "#### Question 19/45\n",
    "How many movies in the database were produced by Pixar Animation Studios? (3 marks)"
   ]
  },
  {
   "cell_type": "markdown",
   "metadata": {},
   "source": [
    "#### Question 20/45\n",
    "How many movies are in the database that are both a Romance and a Comedy? (4 marks)"
   ]
  },
  {
   "cell_type": "markdown",
   "metadata": {},
   "source": [
    "#### Question 21/45\n",
    "What is the most popular action movie that has some German in it? (Hint: The German word for German is Deutsch) (3 marks)"
   ]
  },
  {
   "cell_type": "markdown",
   "metadata": {},
   "source": [
    "#### Question 22/45\n",
    "In how many movies did Tom Cruise portray the character Ethan Hunt? (3 marks)"
   ]
  },
  {
   "cell_type": "markdown",
   "metadata": {},
   "source": [
    "#### Question 23/45\n",
    "How many times was the actress Cate Blanchett nominated for an Oscar? (3 marks)"
   ]
  },
  {
   "cell_type": "markdown",
   "metadata": {},
   "source": [
    "#### Question 24/45\n",
    "How many movies contains at least one of the official South African Languages, Afrikaans or Zulu? (3 marks)"
   ]
  },
  {
   "cell_type": "markdown",
   "metadata": {},
   "source": [
    "#### Question 25/45\n",
    "Which of the movies mentioned above is the most popular? (3 marks)"
   ]
  },
  {
   "cell_type": "markdown",
   "metadata": {},
   "source": [
    "#### Question 26/45\n",
    "What would be the code to change the name of the language with the ‘zh’ iso code in the “language” table to ‘Chinese’? (1 mark)"
   ]
  },
  {
   "cell_type": "markdown",
   "metadata": {},
   "source": [
    "#### Question 27/45\n",
    "What would be the code to insert a new genre called ‘Sport’ with an id of 10? (1 mark)"
   ]
  },
  {
   "cell_type": "markdown",
   "metadata": {},
   "source": [
    "#### Question 28/45\n",
    "You have just watched The Flintstones movie and did not find it very funny. What code would delete the entry that links The Flintstones to the Comedy genre? (2 marks)"
   ]
  },
  {
   "cell_type": "markdown",
   "metadata": {},
   "source": [
    "#### Question 29/45\n",
    "What code will give me the 10 most recently released movies in the database? (1 mark)"
   ]
  },
  {
   "cell_type": "markdown",
   "metadata": {},
   "source": [
    "#### Question 30/45\n",
    "What code would you use to add a column to the language table that could be used for the English names of the different languages? (1 mark)"
   ]
  },
  {
   "cell_type": "markdown",
   "metadata": {},
   "source": [
    "#### Question 31/45\n",
    "##### Analyse (15 Questions, 25 Marks)\n",
    "##### Questions 31 - 45\n",
    "\n",
    "The practical questions of this section should be answered by analysing the football_players.csv dataset – the recommended tool is Python (Pandas library).\n",
    "\n",
    "In NumPy arrays: all data should be of the same type (1 mark)"
   ]
  },
  {
   "cell_type": "markdown",
   "metadata": {},
   "source": [
    "#### Question 32/45\n",
    "Which of the following statements about numpy arrays is false? (1 mark)"
   ]
  },
  {
   "cell_type": "markdown",
   "metadata": {},
   "source": [
    "#### Question 33/45\n",
    "Which of the following statements about pandas dataframes is false? (1 mark)"
   ]
  },
  {
   "cell_type": "markdown",
   "metadata": {},
   "source": [
    "#### Question 34/45\n",
    "How would you select the top left element in a 2-D numpy array a? (1 mark)"
   ]
  },
  {
   "cell_type": "markdown",
   "metadata": {},
   "source": [
    "#### Question 35/45\n",
    "\n",
    "How would you add a row of entries 92, 88 and 78 to a 2-D numpy array a with dimensions of 3x3? (1 mark)"
   ]
  },
  {
   "cell_type": "markdown",
   "metadata": {},
   "source": [
    "#### Question 36/45\n",
    "How would you select the 5th row of a Pandas DataFrame, df, with names as indices? (1 mark)"
   ]
  },
  {
   "cell_type": "markdown",
   "metadata": {},
   "source": [
    "#### Question 37/45\n",
    "How would you create a new column to transform a column ‘Age’ from years to decades? (1 mark)"
   ]
  },
  {
   "cell_type": "markdown",
   "metadata": {},
   "source": [
    "#### Question 38/45\n",
    "Which Algeria player had the highest overall rating? (2 marks)"
   ]
  },
  {
   "cell_type": "markdown",
   "metadata": {},
   "source": [
    "#### Question 39/45\n",
    "Which back had the highest rating for ‘Sliding tackle’? (2 marks)"
   ]
  },
  {
   "cell_type": "markdown",
   "metadata": {},
   "source": [
    "#### Question 40/45\n",
    "Which preferred position type of England has on average the highest overall rating? (2 marks)"
   ]
  },
  {
   "cell_type": "markdown",
   "metadata": {},
   "source": [
    "#### Question 41/45\n",
    "Brazil’s forwards have a higher average overall rating than the backs (1 mark)"
   ]
  },
  {
   "cell_type": "markdown",
   "metadata": {},
   "source": [
    "#### Question 42/45\n",
    "Which country has the oldest player? (2 marks)"
   ]
  },
  {
   "cell_type": "markdown",
   "metadata": {},
   "source": [
    "#### Question 43/45\n",
    "Which of the following attributes is on average the lowest for goalkeepers? (3 marks)"
   ]
  },
  {
   "cell_type": "markdown",
   "metadata": {},
   "source": [
    "#### Question 44/45\n",
    "Which preferred positions type has the most entries in this dataset? (3 marks)"
   ]
  },
  {
   "cell_type": "markdown",
   "metadata": {},
   "source": [
    "#### Question 45/45\n",
    "Which player from Portugal, that is younger than 25, has the highest overall rating? (3 marks)"
   ]
  },
  {
   "cell_type": "markdown",
   "metadata": {},
   "source": []
  }
 ],
 "metadata": {
  "kernelspec": {
   "display_name": "Python 3",
   "language": "python",
   "name": "python3"
  },
  "language_info": {
   "codemirror_mode": {
    "name": "ipython",
    "version": 3
   },
   "file_extension": ".py",
   "mimetype": "text/x-python",
   "name": "python",
   "nbconvert_exporter": "python",
   "pygments_lexer": "ipython3",
   "version": "3.11.4"
  }
 },
 "nbformat": 4,
 "nbformat_minor": 2
}
