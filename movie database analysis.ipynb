{
 "cells": [
  {
   "cell_type": "code",
   "execution_count": 1,
   "id": "b291d66d",
   "metadata": {},
   "outputs": [],
   "source": [
    "%load_ext sql"
   ]
  },
  {
   "cell_type": "code",
   "execution_count": 2,
   "id": "432ece9c",
   "metadata": {},
   "outputs": [],
   "source": [
    "%sql sqlite:///TMDB.db"
   ]
  },
  {
   "cell_type": "code",
   "execution_count": 8,
   "id": "72e7a311",
   "metadata": {},
   "outputs": [
    {
     "name": "stdout",
     "output_type": "stream",
     "text": [
      " * sqlite:///TMDB.db\n",
      "Done.\n"
     ]
    },
    {
     "data": {
      "text/html": [
       "<table>\n",
       "    <thead>\n",
       "        <tr>\n",
       "            <th>cid</th>\n",
       "            <th>name</th>\n",
       "            <th>type</th>\n",
       "            <th>notnull</th>\n",
       "            <th>dflt_value</th>\n",
       "            <th>pk</th>\n",
       "        </tr>\n",
       "    </thead>\n",
       "    <tbody>\n",
       "        <tr>\n",
       "            <td>0</td>\n",
       "            <td>movie_id</td>\n",
       "            <td>INTEGER</td>\n",
       "            <td>1</td>\n",
       "            <td>None</td>\n",
       "            <td>1</td>\n",
       "        </tr>\n",
       "        <tr>\n",
       "            <td>1</td>\n",
       "            <td>title</td>\n",
       "            <td>varchar(500)</td>\n",
       "            <td>0</td>\n",
       "            <td>NULL</td>\n",
       "            <td>0</td>\n",
       "        </tr>\n",
       "        <tr>\n",
       "            <td>2</td>\n",
       "            <td>release_date</td>\n",
       "            <td>datetime(6)</td>\n",
       "            <td>0</td>\n",
       "            <td>NULL</td>\n",
       "            <td>0</td>\n",
       "        </tr>\n",
       "        <tr>\n",
       "            <td>3</td>\n",
       "            <td>budget</td>\n",
       "            <td>INTEGER</td>\n",
       "            <td>0</td>\n",
       "            <td>NULL</td>\n",
       "            <td>0</td>\n",
       "        </tr>\n",
       "        <tr>\n",
       "            <td>4</td>\n",
       "            <td>homepage</td>\n",
       "            <td>varchar(500)</td>\n",
       "            <td>0</td>\n",
       "            <td>NULL</td>\n",
       "            <td>0</td>\n",
       "        </tr>\n",
       "        <tr>\n",
       "            <td>5</td>\n",
       "            <td>original_language</td>\n",
       "            <td>varchar(50)</td>\n",
       "            <td>0</td>\n",
       "            <td>NULL</td>\n",
       "            <td>0</td>\n",
       "        </tr>\n",
       "        <tr>\n",
       "            <td>6</td>\n",
       "            <td>original_title</td>\n",
       "            <td>varchar(500)</td>\n",
       "            <td>0</td>\n",
       "            <td>NULL</td>\n",
       "            <td>0</td>\n",
       "        </tr>\n",
       "        <tr>\n",
       "            <td>7</td>\n",
       "            <td>overview</td>\n",
       "            <td>varchar(5000)</td>\n",
       "            <td>0</td>\n",
       "            <td>NULL</td>\n",
       "            <td>0</td>\n",
       "        </tr>\n",
       "        <tr>\n",
       "            <td>8</td>\n",
       "            <td>popularity</td>\n",
       "            <td>double</td>\n",
       "            <td>0</td>\n",
       "            <td>NULL</td>\n",
       "            <td>0</td>\n",
       "        </tr>\n",
       "        <tr>\n",
       "            <td>9</td>\n",
       "            <td>revenue</td>\n",
       "            <td>double</td>\n",
       "            <td>0</td>\n",
       "            <td>NULL</td>\n",
       "            <td>0</td>\n",
       "        </tr>\n",
       "        <tr>\n",
       "            <td>10</td>\n",
       "            <td>runtime</td>\n",
       "            <td>double</td>\n",
       "            <td>0</td>\n",
       "            <td>NULL</td>\n",
       "            <td>0</td>\n",
       "        </tr>\n",
       "        <tr>\n",
       "            <td>11</td>\n",
       "            <td>release_status</td>\n",
       "            <td>varchar(50)</td>\n",
       "            <td>0</td>\n",
       "            <td>NULL</td>\n",
       "            <td>0</td>\n",
       "        </tr>\n",
       "        <tr>\n",
       "            <td>12</td>\n",
       "            <td>tagline</td>\n",
       "            <td>varchar(500)</td>\n",
       "            <td>0</td>\n",
       "            <td>NULL</td>\n",
       "            <td>0</td>\n",
       "        </tr>\n",
       "        <tr>\n",
       "            <td>13</td>\n",
       "            <td>vote_average</td>\n",
       "            <td>double</td>\n",
       "            <td>0</td>\n",
       "            <td>NULL</td>\n",
       "            <td>0</td>\n",
       "        </tr>\n",
       "        <tr>\n",
       "            <td>14</td>\n",
       "            <td>vote_count</td>\n",
       "            <td>INTEGER</td>\n",
       "            <td>0</td>\n",
       "            <td>NULL</td>\n",
       "            <td>0</td>\n",
       "        </tr>\n",
       "    </tbody>\n",
       "</table>"
      ],
      "text/plain": [
       "[(0, 'movie_id', 'INTEGER', 1, None, 1),\n",
       " (1, 'title', 'varchar(500)', 0, 'NULL', 0),\n",
       " (2, 'release_date', 'datetime(6)', 0, 'NULL', 0),\n",
       " (3, 'budget', 'INTEGER', 0, 'NULL', 0),\n",
       " (4, 'homepage', 'varchar(500)', 0, 'NULL', 0),\n",
       " (5, 'original_language', 'varchar(50)', 0, 'NULL', 0),\n",
       " (6, 'original_title', 'varchar(500)', 0, 'NULL', 0),\n",
       " (7, 'overview', 'varchar(5000)', 0, 'NULL', 0),\n",
       " (8, 'popularity', 'double', 0, 'NULL', 0),\n",
       " (9, 'revenue', 'double', 0, 'NULL', 0),\n",
       " (10, 'runtime', 'double', 0, 'NULL', 0),\n",
       " (11, 'release_status', 'varchar(50)', 0, 'NULL', 0),\n",
       " (12, 'tagline', 'varchar(500)', 0, 'NULL', 0),\n",
       " (13, 'vote_average', 'double', 0, 'NULL', 0),\n",
       " (14, 'vote_count', 'INTEGER', 0, 'NULL', 0)]"
      ]
     },
     "execution_count": 8,
     "metadata": {},
     "output_type": "execute_result"
    }
   ],
   "source": [
    "%%sql\n",
    "PRAGMA table_info(movies);"
   ]
  },
  {
   "cell_type": "code",
   "execution_count": 9,
   "id": "e84e059b",
   "metadata": {},
   "outputs": [
    {
     "name": "stdout",
     "output_type": "stream",
     "text": [
      " * sqlite:///TMDB.db\n",
      "Done.\n"
     ]
    },
    {
     "data": {
      "text/html": [
       "<table>\n",
       "    <thead>\n",
       "        <tr>\n",
       "            <th>cid</th>\n",
       "            <th>name</th>\n",
       "            <th>type</th>\n",
       "            <th>notnull</th>\n",
       "            <th>dflt_value</th>\n",
       "            <th>pk</th>\n",
       "        </tr>\n",
       "    </thead>\n",
       "    <tbody>\n",
       "        <tr>\n",
       "            <td>0</td>\n",
       "            <td>movie_id</td>\n",
       "            <td>INTEGER</td>\n",
       "            <td>1</td>\n",
       "            <td>None</td>\n",
       "            <td>1</td>\n",
       "        </tr>\n",
       "        <tr>\n",
       "            <td>1</td>\n",
       "            <td>iso_639_1</td>\n",
       "            <td>char(2)</td>\n",
       "            <td>1</td>\n",
       "            <td>None</td>\n",
       "            <td>2</td>\n",
       "        </tr>\n",
       "    </tbody>\n",
       "</table>"
      ],
      "text/plain": [
       "[(0, 'movie_id', 'INTEGER', 1, None, 1),\n",
       " (1, 'iso_639_1', 'char(2)', 1, None, 2)]"
      ]
     },
     "execution_count": 9,
     "metadata": {},
     "output_type": "execute_result"
    }
   ],
   "source": [
    "%%sql\n",
    "PRAGMA table_info(languagemap);"
   ]
  },
  {
   "cell_type": "code",
   "execution_count": 10,
   "id": "60730709",
   "metadata": {},
   "outputs": [
    {
     "name": "stdout",
     "output_type": "stream",
     "text": [
      " * sqlite:///TMDB.db\n",
      "Done.\n",
      "The 'languagemap' table has 2 foreign keys.\n"
     ]
    }
   ],
   "source": [
    "result = %sql PRAGMA foreign_key_list(languagemap);\n",
    "foreign_key_count = len(result)\n",
    "print(f\"The 'languagemap' table has {foreign_key_count} foreign keys.\")\n"
   ]
  },
  {
   "cell_type": "code",
   "execution_count": 11,
   "id": "0f96d99d",
   "metadata": {},
   "outputs": [
    {
     "name": "stdout",
     "output_type": "stream",
     "text": [
      " * sqlite:///TMDB.db\n",
      "Done.\n"
     ]
    },
    {
     "data": {
      "text/plain": [
       "[]"
      ]
     },
     "execution_count": 11,
     "metadata": {},
     "output_type": "execute_result"
    }
   ],
   "source": [
    "%%sql\n",
    "CREATE VIEW Not_Released AS SELECT * FROM movies WHERE release_status <> 'Released'"
   ]
  },
  {
   "cell_type": "code",
   "execution_count": 12,
   "id": "8f388997",
   "metadata": {},
   "outputs": [
    {
     "name": "stdout",
     "output_type": "stream",
     "text": [
      " * sqlite:///TMDB.db\n",
      "Done.\n"
     ]
    },
    {
     "data": {
      "text/html": [
       "<table>\n",
       "    <thead>\n",
       "        <tr>\n",
       "            <th>movie_id</th>\n",
       "            <th>title</th>\n",
       "            <th>release_date</th>\n",
       "            <th>budget</th>\n",
       "            <th>homepage</th>\n",
       "            <th>original_language</th>\n",
       "            <th>original_title</th>\n",
       "            <th>overview</th>\n",
       "            <th>popularity</th>\n",
       "            <th>revenue</th>\n",
       "            <th>runtime</th>\n",
       "            <th>release_status</th>\n",
       "            <th>tagline</th>\n",
       "            <th>vote_average</th>\n",
       "            <th>vote_count</th>\n",
       "        </tr>\n",
       "    </thead>\n",
       "    <tbody>\n",
       "        <tr>\n",
       "            <td>40963</td>\n",
       "            <td>Little Big Top</td>\n",
       "            <td>2006-01-01 00:00:00.000000</td>\n",
       "            <td>0</td>\n",
       "            <td>None</td>\n",
       "            <td>en</td>\n",
       "            <td>Little Big Top</td>\n",
       "            <td>An aging out of work clown returns to his small hometown, resigned to spend the rest of his days in a drunken stupor. But when his passion for clowning is reawakened by the local amateur circus he finds his smile.</td>\n",
       "            <td>0.0921</td>\n",
       "            <td>0.0</td>\n",
       "            <td>0.0</td>\n",
       "            <td>Rumored</td>\n",
       "            <td>None</td>\n",
       "            <td>10.0</td>\n",
       "            <td>1</td>\n",
       "        </tr>\n",
       "        <tr>\n",
       "            <td>43630</td>\n",
       "            <td>The Helix... Loaded</td>\n",
       "            <td>2005-01-01 00:00:00.000000</td>\n",
       "            <td>0</td>\n",
       "            <td>None</td>\n",
       "            <td>en</td>\n",
       "            <td>The Helix... Loaded</td>\n",
       "            <td> </td>\n",
       "            <td>0.0206</td>\n",
       "            <td>0.0</td>\n",
       "            <td>97.0</td>\n",
       "            <td>Rumored</td>\n",
       "            <td>None</td>\n",
       "            <td>4.8</td>\n",
       "            <td>2</td>\n",
       "        </tr>\n",
       "        <tr>\n",
       "            <td>50875</td>\n",
       "            <td>Higher Ground</td>\n",
       "            <td>2011-08-26 00:00:00.000000</td>\n",
       "            <td>2000000</td>\n",
       "            <td>http://www.sonyclassics.com/higherground/</td>\n",
       "            <td>en</td>\n",
       "            <td>Higher Ground</td>\n",
       "            <td>A chronicle of one woman&#x27;s lifelong struggle with her faith.</td>\n",
       "            <td>1.699101</td>\n",
       "            <td>841733.0</td>\n",
       "            <td>109.0</td>\n",
       "            <td>Post Production</td>\n",
       "            <td>None</td>\n",
       "            <td>5.3</td>\n",
       "            <td>14</td>\n",
       "        </tr>\n",
       "        <tr>\n",
       "            <td>57294</td>\n",
       "            <td>Crying with Laughter</td>\n",
       "            <td>2009-06-01 00:00:00.000000</td>\n",
       "            <td>0</td>\n",
       "            <td>None</td>\n",
       "            <td>en</td>\n",
       "            <td>Crying with Laughter</td>\n",
       "            <td>Powerfully redemptive and darkly comedic revenge thriller set in the vicious world of stand-up comedy, starring Stephen McCole and Malcolm Shields.</td>\n",
       "            <td>0.108135</td>\n",
       "            <td>0.0</td>\n",
       "            <td>93.0</td>\n",
       "            <td>Rumored</td>\n",
       "            <td>A Bad Trip Down Memory Lane</td>\n",
       "            <td>7.0</td>\n",
       "            <td>1</td>\n",
       "        </tr>\n",
       "        <tr>\n",
       "            <td>70875</td>\n",
       "            <td>The Harvest (La Cosecha)</td>\n",
       "            <td>2011-07-29 00:00:00.000000</td>\n",
       "            <td>56000</td>\n",
       "            <td>http://www.facebook.com/theharvestfilm</td>\n",
       "            <td>en</td>\n",
       "            <td>The Harvest (La Cosecha)</td>\n",
       "            <td>The story of the children who work 12-14 hour days in the fields without the protection of child labor laws. These children are not toiling in the fields in some far away land. They are working in America.</td>\n",
       "            <td>0.010909</td>\n",
       "            <td>0.0</td>\n",
       "            <td>80.0</td>\n",
       "            <td>Rumored</td>\n",
       "            <td>None</td>\n",
       "            <td>0.0</td>\n",
       "            <td>0</td>\n",
       "        </tr>\n",
       "        <tr>\n",
       "            <td>84659</td>\n",
       "            <td>The Naked Ape</td>\n",
       "            <td>2006-09-16 00:00:00.000000</td>\n",
       "            <td>0</td>\n",
       "            <td>None</td>\n",
       "            <td>en</td>\n",
       "            <td>The Naked Ape</td>\n",
       "            <td>The Naked Ape is a coming-of-age film following three teenagers on a road trip across the Pacific Southwest.</td>\n",
       "            <td>0.077577</td>\n",
       "            <td>0.0</td>\n",
       "            <td>110.0</td>\n",
       "            <td>Rumored</td>\n",
       "            <td>None</td>\n",
       "            <td>5.0</td>\n",
       "            <td>1</td>\n",
       "        </tr>\n",
       "        <tr>\n",
       "            <td>295886</td>\n",
       "            <td>Brotherly Love</td>\n",
       "            <td>2015-04-24 00:00:00.000000</td>\n",
       "            <td>1900000</td>\n",
       "            <td>None</td>\n",
       "            <td>en</td>\n",
       "            <td>Brotherly Love</td>\n",
       "            <td>West Philadelphia basketball star Sergio Taylor deals with the pressures of fame while his brother and sister have their own issues with ambition.</td>\n",
       "            <td>1.367751</td>\n",
       "            <td>0.0</td>\n",
       "            <td>89.0</td>\n",
       "            <td>Post Production</td>\n",
       "            <td>None</td>\n",
       "            <td>6.9</td>\n",
       "            <td>21</td>\n",
       "        </tr>\n",
       "        <tr>\n",
       "            <td>357837</td>\n",
       "            <td>Dancin&#x27; It&#x27;s On</td>\n",
       "            <td>2015-10-16 00:00:00.000000</td>\n",
       "            <td>0</td>\n",
       "            <td>https://www.facebook.com/eastsidestorymovie</td>\n",
       "            <td>cs</td>\n",
       "            <td>Dancin&#x27; It&#x27;s On</td>\n",
       "            <td>This coming of age Dance Film, in the spirit of Dirty Dancing, Karate Kid, and High School Musical - is about a young girl from Beverly Hills, Jennifer who is visiting her Father&#x27;s Panama City Beach Hotel during Summer Break, and falls in love with a Young Boy, Ken who works as a Dishwasher. Even though both are from different backgrounds, they share the same passion... DANCE and partner with each other to enter the 2nd Annual Florida State-Wide Dance Contest. While preparing for the contest, Jennifer and Ken must overcome scheming dance partners, a meddling father, and their own doubts for their love to prevail.</td>\n",
       "            <td>0.186234</td>\n",
       "            <td>0.0</td>\n",
       "            <td>89.0</td>\n",
       "            <td>Post Production</td>\n",
       "            <td>Dancin&#x27; Like You&#x27;ve Never Seen Before</td>\n",
       "            <td>4.3</td>\n",
       "            <td>2</td>\n",
       "        </tr>\n",
       "    </tbody>\n",
       "</table>"
      ],
      "text/plain": [
       "[(40963, 'Little Big Top', '2006-01-01 00:00:00.000000', 0, None, 'en', 'Little Big Top', 'An aging out of work clown returns to his small hometown, resigned to spend the rest of his days in a drunken stupor. But when his passion for clowning is reawakened by the local amateur circus he finds his smile.', 0.0921, 0.0, 0.0, 'Rumored', None, 10.0, 1),\n",
       " (43630, 'The Helix... Loaded', '2005-01-01 00:00:00.000000', 0, None, 'en', 'The Helix... Loaded', ' ', 0.0206, 0.0, 97.0, 'Rumored', None, 4.8, 2),\n",
       " (50875, 'Higher Ground', '2011-08-26 00:00:00.000000', 2000000, 'http://www.sonyclassics.com/higherground/', 'en', 'Higher Ground', \"A chronicle of one woman's lifelong struggle with her faith.\", 1.699101, 841733.0, 109.0, 'Post Production', None, 5.3, 14),\n",
       " (57294, 'Crying with Laughter', '2009-06-01 00:00:00.000000', 0, None, 'en', 'Crying with Laughter', 'Powerfully redemptive and darkly comedic revenge thriller set in the vicious world of stand-up comedy, starring Stephen McCole and Malcolm Shields.', 0.108135, 0.0, 93.0, 'Rumored', 'A Bad Trip Down Memory Lane', 7.0, 1),\n",
       " (70875, 'The Harvest (La Cosecha)', '2011-07-29 00:00:00.000000', 56000, 'http://www.facebook.com/theharvestfilm', 'en', 'The Harvest (La Cosecha)', 'The story of the children who work 12-14 hour days in the fields without the protection of child labor laws. These children are not toiling in the fields in some far away land. They are working in America.', 0.010909, 0.0, 80.0, 'Rumored', None, 0.0, 0),\n",
       " (84659, 'The Naked Ape', '2006-09-16 00:00:00.000000', 0, None, 'en', 'The Naked Ape', 'The Naked Ape is a coming-of-age film following three teenagers on a road trip across the Pacific Southwest.', 0.077577, 0.0, 110.0, 'Rumored', None, 5.0, 1),\n",
       " (295886, 'Brotherly Love', '2015-04-24 00:00:00.000000', 1900000, None, 'en', 'Brotherly Love', 'West Philadelphia basketball star Sergio Taylor deals with the pressures of fame while his brother and sister have their own issues with ambition.', 1.367751, 0.0, 89.0, 'Post Production', None, 6.9, 21),\n",
       " (357837, \"Dancin' It's On\", '2015-10-16 00:00:00.000000', 0, 'https://www.facebook.com/eastsidestorymovie', 'cs', \"Dancin' It's On\", \"This coming of age Dance Film, in the spirit of Dirty Dancing, Karate Kid, and High School Musical - is about a young girl from Beverly Hills, Jennif ... (322 characters truncated) ... preparing for the contest, Jennifer and Ken must overcome scheming dance partners, a meddling father, and their own doubts for their love to prevail.\", 0.186234, 0.0, 89.0, 'Post Production', \"Dancin' Like You've Never Seen Before\", 4.3, 2)]"
      ]
     },
     "execution_count": 12,
     "metadata": {},
     "output_type": "execute_result"
    }
   ],
   "source": [
    "%%sql\n",
    "select * from Not_released"
   ]
  },
  {
   "cell_type": "code",
   "execution_count": 13,
   "id": "76197e3d",
   "metadata": {},
   "outputs": [
    {
     "name": "stdout",
     "output_type": "stream",
     "text": [
      " * sqlite:///TMDB.db\n",
      "(sqlite3.OperationalError) near \"VIEW\": syntax error\n",
      "[SQL: VIEW Not_Released SELECT * FROM movies WHERE release_status <> 'Released']\n",
      "(Background on this error at: https://sqlalche.me/e/20/e3q8)\n"
     ]
    }
   ],
   "source": [
    "%%sql\n",
    "VIEW Not_Released SELECT * FROM movies WHERE release_status <> 'Released'"
   ]
  },
  {
   "cell_type": "code",
   "execution_count": 14,
   "id": "f2a033bc",
   "metadata": {},
   "outputs": [
    {
     "name": "stdout",
     "output_type": "stream",
     "text": [
      " * sqlite:///TMDB.db\n",
      "(sqlite3.OperationalError) near \"SELECT\": syntax error\n",
      "[SQL: CREATE VIEW Not_Released SELECT * FROM movies WHERE release_status != 'Released']\n",
      "(Background on this error at: https://sqlalche.me/e/20/e3q8)\n"
     ]
    }
   ],
   "source": [
    "%%sql\n",
    "CREATE VIEW Not_Released SELECT * FROM movies WHERE release_status != 'Released'"
   ]
  },
  {
   "cell_type": "code",
   "execution_count": 16,
   "id": "439d59e8",
   "metadata": {},
   "outputs": [
    {
     "name": "stdout",
     "output_type": "stream",
     "text": [
      " * sqlite:///TMDB.db\n",
      "Done.\n"
     ]
    },
    {
     "data": {
      "text/html": [
       "<table>\n",
       "    <thead>\n",
       "        <tr>\n",
       "            <th>movies_with_changed_titles</th>\n",
       "        </tr>\n",
       "    </thead>\n",
       "    <tbody>\n",
       "        <tr>\n",
       "            <td>261</td>\n",
       "        </tr>\n",
       "    </tbody>\n",
       "</table>"
      ],
      "text/plain": [
       "[(261,)]"
      ]
     },
     "execution_count": 16,
     "metadata": {},
     "output_type": "execute_result"
    }
   ],
   "source": [
    "%%sql\n",
    "SELECT COUNT(*) AS movies_with_changed_titles\n",
    "FROM movies\n",
    "WHERE original_title <> title;\n"
   ]
  },
  {
   "cell_type": "code",
   "execution_count": 17,
   "id": "98bc0df0",
   "metadata": {},
   "outputs": [
    {
     "name": "stdout",
     "output_type": "stream",
     "text": [
      " * sqlite:///TMDB.db\n",
      "Done.\n"
     ]
    },
    {
     "data": {
      "text/html": [
       "<table>\n",
       "    <thead>\n",
       "        <tr>\n",
       "            <th>title</th>\n",
       "            <th>popularity</th>\n",
       "        </tr>\n",
       "    </thead>\n",
       "    <tbody>\n",
       "        <tr>\n",
       "            <td>Interstellar</td>\n",
       "            <td>724.247784</td>\n",
       "        </tr>\n",
       "    </tbody>\n",
       "</table>"
      ],
      "text/plain": [
       "[('Interstellar', 724.247784)]"
      ]
     },
     "execution_count": 17,
     "metadata": {},
     "output_type": "execute_result"
    }
   ],
   "source": [
    "%%sql\n",
    "SELECT title, popularity\n",
    "FROM movies\n",
    "WHERE release_date > '2000-01-01'\n",
    "  AND budget > 100000000\n",
    "ORDER BY popularity DESC\n",
    "LIMIT 1;\n"
   ]
  },
  {
   "cell_type": "code",
   "execution_count": 30,
   "id": "23417e5f",
   "metadata": {},
   "outputs": [
    {
     "name": "stdout",
     "output_type": "stream",
     "text": [
      " * sqlite:///TMDB.db\n",
      "Done.\n"
     ]
    },
    {
     "data": {
      "text/html": [
       "<table>\n",
       "    <thead>\n",
       "        <tr>\n",
       "            <th>original_language</th>\n",
       "        </tr>\n",
       "    </thead>\n",
       "    <tbody>\n",
       "        <tr>\n",
       "            <td>en</td>\n",
       "        </tr>\n",
       "        <tr>\n",
       "            <td>de</td>\n",
       "        </tr>\n",
       "        <tr>\n",
       "            <td>es</td>\n",
       "        </tr>\n",
       "        <tr>\n",
       "            <td>zh</td>\n",
       "        </tr>\n",
       "        <tr>\n",
       "            <td>ja</td>\n",
       "        </tr>\n",
       "        <tr>\n",
       "            <td>fr</td>\n",
       "        </tr>\n",
       "        <tr>\n",
       "            <td>da</td>\n",
       "        </tr>\n",
       "        <tr>\n",
       "            <td>it</td>\n",
       "        </tr>\n",
       "        <tr>\n",
       "            <td>sv</td>\n",
       "        </tr>\n",
       "        <tr>\n",
       "            <td>hi</td>\n",
       "        </tr>\n",
       "        <tr>\n",
       "            <td>ru</td>\n",
       "        </tr>\n",
       "        <tr>\n",
       "            <td>pt</td>\n",
       "        </tr>\n",
       "        <tr>\n",
       "            <td>ko</td>\n",
       "        </tr>\n",
       "        <tr>\n",
       "            <td>af</td>\n",
       "        </tr>\n",
       "        <tr>\n",
       "            <td>ro</td>\n",
       "        </tr>\n",
       "        <tr>\n",
       "            <td>nl</td>\n",
       "        </tr>\n",
       "        <tr>\n",
       "            <td>ar</td>\n",
       "        </tr>\n",
       "        <tr>\n",
       "            <td>he</td>\n",
       "        </tr>\n",
       "        <tr>\n",
       "            <td>th</td>\n",
       "        </tr>\n",
       "        <tr>\n",
       "            <td>cn</td>\n",
       "        </tr>\n",
       "        <tr>\n",
       "            <td>tr</td>\n",
       "        </tr>\n",
       "        <tr>\n",
       "            <td>cs</td>\n",
       "        </tr>\n",
       "        <tr>\n",
       "            <td>fa</td>\n",
       "        </tr>\n",
       "        <tr>\n",
       "            <td>no</td>\n",
       "        </tr>\n",
       "        <tr>\n",
       "            <td>ps</td>\n",
       "        </tr>\n",
       "        <tr>\n",
       "            <td>vi</td>\n",
       "        </tr>\n",
       "        <tr>\n",
       "            <td>el</td>\n",
       "        </tr>\n",
       "        <tr>\n",
       "            <td>hu</td>\n",
       "        </tr>\n",
       "        <tr>\n",
       "            <td>nb</td>\n",
       "        </tr>\n",
       "        <tr>\n",
       "            <td>xx</td>\n",
       "        </tr>\n",
       "        <tr>\n",
       "            <td>id</td>\n",
       "        </tr>\n",
       "        <tr>\n",
       "            <td>pl</td>\n",
       "        </tr>\n",
       "        <tr>\n",
       "            <td>is</td>\n",
       "        </tr>\n",
       "        <tr>\n",
       "            <td>te</td>\n",
       "        </tr>\n",
       "        <tr>\n",
       "            <td>ta</td>\n",
       "        </tr>\n",
       "        <tr>\n",
       "            <td>ky</td>\n",
       "        </tr>\n",
       "        <tr>\n",
       "            <td>sl</td>\n",
       "        </tr>\n",
       "    </tbody>\n",
       "</table>"
      ],
      "text/plain": [
       "[('en',),\n",
       " ('de',),\n",
       " ('es',),\n",
       " ('zh',),\n",
       " ('ja',),\n",
       " ('fr',),\n",
       " ('da',),\n",
       " ('it',),\n",
       " ('sv',),\n",
       " ('hi',),\n",
       " ('ru',),\n",
       " ('pt',),\n",
       " ('ko',),\n",
       " ('af',),\n",
       " ('ro',),\n",
       " ('nl',),\n",
       " ('ar',),\n",
       " ('he',),\n",
       " ('th',),\n",
       " ('cn',),\n",
       " ('tr',),\n",
       " ('cs',),\n",
       " ('fa',),\n",
       " ('no',),\n",
       " ('ps',),\n",
       " ('vi',),\n",
       " ('el',),\n",
       " ('hu',),\n",
       " ('nb',),\n",
       " ('xx',),\n",
       " ('id',),\n",
       " ('pl',),\n",
       " ('is',),\n",
       " ('te',),\n",
       " ('ta',),\n",
       " ('ky',),\n",
       " ('sl',)]"
      ]
     },
     "execution_count": 30,
     "metadata": {},
     "output_type": "execute_result"
    }
   ],
   "source": [
    "%%sql\n",
    "SELECT DISTINCT(original_language)\n",
    "FROM movies\n",
    "limit 100;"
   ]
  },
  {
   "cell_type": "code",
   "execution_count": 22,
   "id": "f6c22082",
   "metadata": {},
   "outputs": [
    {
     "name": "stdout",
     "output_type": "stream",
     "text": [
      " * sqlite:///TMDB.db\n",
      "Done.\n"
     ]
    },
    {
     "data": {
      "text/html": [
       "<table>\n",
       "    <thead>\n",
       "        <tr>\n",
       "            <th>COUNT(*)</th>\n",
       "        </tr>\n",
       "    </thead>\n",
       "    <tbody>\n",
       "        <tr>\n",
       "            <td>298</td>\n",
       "        </tr>\n",
       "    </tbody>\n",
       "</table>"
      ],
      "text/plain": [
       "[(298,)]"
      ]
     },
     "execution_count": 22,
     "metadata": {},
     "output_type": "execute_result"
    }
   ],
   "source": [
    "%%sql\n",
    "SELECT COUNT(*)\n",
    "FROM movies\n",
    "WHERE original_language <> \"en\""
   ]
  },
  {
   "cell_type": "code",
   "execution_count": 3,
   "id": "21d6eef2",
   "metadata": {},
   "outputs": [
    {
     "name": "stdout",
     "output_type": "stream",
     "text": [
      " * sqlite:///TMDB.db\n",
      "Done.\n"
     ]
    },
    {
     "data": {
      "text/html": [
       "<table>\n",
       "    <thead>\n",
       "        <tr>\n",
       "            <th>production_company_id</th>\n",
       "            <th>production_company_name</th>\n",
       "        </tr>\n",
       "    </thead>\n",
       "    <tbody>\n",
       "        <tr>\n",
       "            <td>1</td>\n",
       "            <td>Lucasfilm</td>\n",
       "        </tr>\n",
       "        <tr>\n",
       "            <td>2</td>\n",
       "            <td>Walt Disney Pictures</td>\n",
       "        </tr>\n",
       "        <tr>\n",
       "            <td>3</td>\n",
       "            <td>Pixar Animation Studios</td>\n",
       "        </tr>\n",
       "        <tr>\n",
       "            <td>4</td>\n",
       "            <td>Paramount Pictures</td>\n",
       "        </tr>\n",
       "        <tr>\n",
       "            <td>5</td>\n",
       "            <td>Columbia Pictures</td>\n",
       "        </tr>\n",
       "        <tr>\n",
       "            <td>6</td>\n",
       "            <td>RKO Radio Pictures</td>\n",
       "        </tr>\n",
       "        <tr>\n",
       "            <td>7</td>\n",
       "            <td>DreamWorks</td>\n",
       "        </tr>\n",
       "        <tr>\n",
       "            <td>8</td>\n",
       "            <td>Fine Line Features</td>\n",
       "        </tr>\n",
       "        <tr>\n",
       "            <td>9</td>\n",
       "            <td>Gaumont</td>\n",
       "        </tr>\n",
       "        <tr>\n",
       "            <td>11</td>\n",
       "            <td>WingNut Films</td>\n",
       "        </tr>\n",
       "        <tr>\n",
       "            <td>12</td>\n",
       "            <td>New Line Cinema</td>\n",
       "        </tr>\n",
       "        <tr>\n",
       "            <td>13</td>\n",
       "            <td>Universal Studios</td>\n",
       "        </tr>\n",
       "        <tr>\n",
       "            <td>14</td>\n",
       "            <td>Miramax Films</td>\n",
       "        </tr>\n",
       "        <tr>\n",
       "            <td>18</td>\n",
       "            <td>Gracie Films</td>\n",
       "        </tr>\n",
       "        <tr>\n",
       "            <td>23</td>\n",
       "            <td>Imagine Entertainment</td>\n",
       "        </tr>\n",
       "        <tr>\n",
       "            <td>24</td>\n",
       "            <td>Mikona Productions GmbH &amp; Co. KG</td>\n",
       "        </tr>\n",
       "        <tr>\n",
       "            <td>27</td>\n",
       "            <td>DreamWorks SKG</td>\n",
       "        </tr>\n",
       "        <tr>\n",
       "            <td>28</td>\n",
       "            <td>Newmarket Films</td>\n",
       "        </tr>\n",
       "        <tr>\n",
       "            <td>30</td>\n",
       "            <td>Eddie Murphy Productions</td>\n",
       "        </tr>\n",
       "        <tr>\n",
       "            <td>32</td>\n",
       "            <td>Buena Vista</td>\n",
       "        </tr>\n",
       "    </tbody>\n",
       "</table>"
      ],
      "text/plain": [
       "[(1, 'Lucasfilm'),\n",
       " (2, 'Walt Disney Pictures'),\n",
       " (3, 'Pixar Animation Studios'),\n",
       " (4, 'Paramount Pictures'),\n",
       " (5, 'Columbia Pictures'),\n",
       " (6, 'RKO Radio Pictures'),\n",
       " (7, 'DreamWorks'),\n",
       " (8, 'Fine Line Features'),\n",
       " (9, 'Gaumont'),\n",
       " (11, 'WingNut Films'),\n",
       " (12, 'New Line Cinema'),\n",
       " (13, 'Universal Studios'),\n",
       " (14, 'Miramax Films'),\n",
       " (18, 'Gracie Films'),\n",
       " (23, 'Imagine Entertainment'),\n",
       " (24, 'Mikona Productions GmbH & Co. KG'),\n",
       " (27, 'DreamWorks SKG'),\n",
       " (28, 'Newmarket Films'),\n",
       " (30, 'Eddie Murphy Productions'),\n",
       " (32, 'Buena Vista')]"
      ]
     },
     "execution_count": 3,
     "metadata": {},
     "output_type": "execute_result"
    }
   ],
   "source": [
    "%%sql\n",
    "SELECT * \n",
    "FROM productioncompanies\n",
    "limit 20"
   ]
  },
  {
   "cell_type": "code",
   "execution_count": 39,
   "id": "1db5d8e3",
   "metadata": {},
   "outputs": [
    {
     "name": "stdout",
     "output_type": "stream",
     "text": [
      " * sqlite:///TMDB.db\n",
      "Done.\n"
     ]
    },
    {
     "data": {
      "text/html": [
       "<table>\n",
       "    <thead>\n",
       "        <tr>\n",
       "            <th>PIXAR_MOVIES_COUNT</th>\n",
       "        </tr>\n",
       "    </thead>\n",
       "    <tbody>\n",
       "        <tr>\n",
       "            <td>16</td>\n",
       "        </tr>\n",
       "    </tbody>\n",
       "</table>"
      ],
      "text/plain": [
       "[(16,)]"
      ]
     },
     "execution_count": 39,
     "metadata": {},
     "output_type": "execute_result"
    }
   ],
   "source": [
    "%%sql\n",
    "SELECT COUNT (*) PIXAR_MOVIES_COUNT\n",
    "FROM movies M\n",
    "JOIN productioncompanymap PCM ON M.movie_id = PCM.movie_id\n",
    "JOIN productioncompanies PC ON PCM.production_company_id = PC.production_company_id\n",
    "WHERE production_company_name = \"Pixar Animation Studios\";"
   ]
  },
  {
   "cell_type": "code",
   "execution_count": 65,
   "id": "16c17bc7",
   "metadata": {},
   "outputs": [
    {
     "name": "stdout",
     "output_type": "stream",
     "text": [
      " * sqlite:///TMDB.db\n",
      "Done.\n"
     ]
    },
    {
     "data": {
      "text/html": [
       "<table>\n",
       "    <thead>\n",
       "        <tr>\n",
       "            <th>romance_comedy_movies_count</th>\n",
       "        </tr>\n",
       "    </thead>\n",
       "    <tbody>\n",
       "        <tr>\n",
       "            <td>484</td>\n",
       "        </tr>\n",
       "    </tbody>\n",
       "</table>"
      ],
      "text/plain": [
       "[(484,)]"
      ]
     },
     "execution_count": 65,
     "metadata": {},
     "output_type": "execute_result"
    }
   ],
   "source": [
    "%%sql\n",
    "SELECT COUNT(*) AS romance_comedy_movies_count\n",
    "FROM movies M\n",
    "JOIN genremap GM1 ON M.movie_id = GM1.movie_id\n",
    "JOIN genremap GM2 ON M.movie_id = GM2.movie_id\n",
    "WHERE GM1.genre_id = '10749'  -- Romance genre_id\n",
    "  AND GM2.genre_id = '35';    -- Comedy genre_id"
   ]
  },
  {
   "cell_type": "code",
   "execution_count": 76,
   "id": "3f44b462",
   "metadata": {},
   "outputs": [
    {
     "name": "stdout",
     "output_type": "stream",
     "text": [
      " * sqlite:///TMDB.db\n",
      "Done.\n"
     ]
    },
    {
     "data": {
      "text/html": [
       "<table>\n",
       "    <thead>\n",
       "        <tr>\n",
       "            <th>title</th>\n",
       "            <th>popularity</th>\n",
       "        </tr>\n",
       "    </thead>\n",
       "    <tbody>\n",
       "        <tr>\n",
       "            <td>Captain America: Civil War</td>\n",
       "            <td>198.372395</td>\n",
       "        </tr>\n",
       "    </tbody>\n",
       "</table>"
      ],
      "text/plain": [
       "[('Captain America: Civil War', 198.372395)]"
      ]
     },
     "execution_count": 76,
     "metadata": {},
     "output_type": "execute_result"
    }
   ],
   "source": [
    "%%sql\n",
    "SELECT M.title, M.popularity\n",
    "FROM movies M\n",
    "JOIN languagemap LM ON M.movie_id = LM.movie_id\n",
    "JOIN languages L ON LM.iso_639_1 = L.iso_639_1\n",
    "JOIN genremap GM  ON M.movie_id = GM.movie_id\n",
    "WHERE GM.genre_id = '28'\n",
    "  AND L.iso_639_1 = 'de'\n",
    "ORDER BY M.popularity DESC\n",
    "LIMIT 1;\n"
   ]
  },
  {
   "cell_type": "code",
   "execution_count": 92,
   "id": "edaf72fc",
   "metadata": {},
   "outputs": [
    {
     "name": "stdout",
     "output_type": "stream",
     "text": [
      " * sqlite:///TMDB.db\n",
      "Done.\n"
     ]
    },
    {
     "data": {
      "text/html": [
       "<table>\n",
       "    <thead>\n",
       "        <tr>\n",
       "            <th>Tom_cruise_Ethan_Hunt</th>\n",
       "        </tr>\n",
       "    </thead>\n",
       "    <tbody>\n",
       "        <tr>\n",
       "            <td>5</td>\n",
       "        </tr>\n",
       "    </tbody>\n",
       "</table>"
      ],
      "text/plain": [
       "[(5,)]"
      ]
     },
     "execution_count": 92,
     "metadata": {},
     "output_type": "execute_result"
    }
   ],
   "source": [
    "%%sql\n",
    "SELECT COUNT(*) Tom_cruise_Ethan_Hunt\n",
    "FROM casts\n",
    "WHERE actor_id = 500\n",
    "AND\n",
    "characters = \"Ethan Hunt\";\n"
   ]
  },
  {
   "cell_type": "code",
   "execution_count": 95,
   "id": "77281cbd",
   "metadata": {},
   "outputs": [
    {
     "name": "stdout",
     "output_type": "stream",
     "text": [
      " * sqlite:///TMDB.db\n",
      "Done.\n"
     ]
    },
    {
     "data": {
      "text/html": [
       "<table>\n",
       "    <thead>\n",
       "        <tr>\n",
       "            <th>COUNT(*)</th>\n",
       "        </tr>\n",
       "    </thead>\n",
       "    <tbody>\n",
       "        <tr>\n",
       "            <td>7</td>\n",
       "        </tr>\n",
       "    </tbody>\n",
       "</table>"
      ],
      "text/plain": [
       "[(7,)]"
      ]
     },
     "execution_count": 95,
     "metadata": {},
     "output_type": "execute_result"
    }
   ],
   "source": [
    "%%sql\n",
    "SELECT COUNT(*)\n",
    "FROM oscars\n",
    "WHERE name = \"Cate Blanchett\"\n"
   ]
  },
  {
   "cell_type": "code",
   "execution_count": 102,
   "id": "5130f741",
   "metadata": {},
   "outputs": [
    {
     "name": "stdout",
     "output_type": "stream",
     "text": [
      " * sqlite:///TMDB.db\n",
      "Done.\n"
     ]
    },
    {
     "data": {
      "text/html": [
       "<table>\n",
       "    <thead>\n",
       "        <tr>\n",
       "            <th>iso_639_1</th>\n",
       "            <th>language_name</th>\n",
       "        </tr>\n",
       "    </thead>\n",
       "    <tbody>\n",
       "        <tr>\n",
       "            <td>af</td>\n",
       "            <td>Afrikaans</td>\n",
       "        </tr>\n",
       "        <tr>\n",
       "            <td>zu</td>\n",
       "            <td>isiZulu</td>\n",
       "        </tr>\n",
       "    </tbody>\n",
       "</table>"
      ],
      "text/plain": [
       "[('af', 'Afrikaans'), ('zu', 'isiZulu')]"
      ]
     },
     "execution_count": 102,
     "metadata": {},
     "output_type": "execute_result"
    }
   ],
   "source": [
    "%%sql\n",
    "SELECT *\n",
    "FROM languages\n",
    "WHERE language_name like \"Afrika%\" OR language_name like \"isi%\";"
   ]
  },
  {
   "cell_type": "code",
   "execution_count": 111,
   "id": "9ae1125a",
   "metadata": {},
   "outputs": [
    {
     "name": "stdout",
     "output_type": "stream",
     "text": [
      " * sqlite:///TMDB.db\n",
      "Done.\n"
     ]
    },
    {
     "data": {
      "text/html": [
       "<table>\n",
       "    <thead>\n",
       "        <tr>\n",
       "            <th>COUNT(*)</th>\n",
       "        </tr>\n",
       "    </thead>\n",
       "    <tbody>\n",
       "        <tr>\n",
       "            <td>11</td>\n",
       "        </tr>\n",
       "    </tbody>\n",
       "</table>"
      ],
      "text/plain": [
       "[(11,)]"
      ]
     },
     "execution_count": 111,
     "metadata": {},
     "output_type": "execute_result"
    }
   ],
   "source": [
    "%%sql\n",
    "SELECT COUNT(*)\n",
    "FROM movies M\n",
    "JOIN languagemap LM ON M.movie_id = LM.movie_id\n",
    "JOIN languages L ON LM.iso_639_1 = L.iso_639_1\n",
    "WHERE L.language_name = \"Afrikaans\" OR language_name = \"isiZulu\""
   ]
  },
  {
   "cell_type": "code",
   "execution_count": 125,
   "id": "f396e6e2",
   "metadata": {},
   "outputs": [
    {
     "name": "stdout",
     "output_type": "stream",
     "text": [
      " * sqlite:///TMDB.db\n",
      "Done.\n"
     ]
    },
    {
     "data": {
      "text/html": [
       "<table>\n",
       "    <thead>\n",
       "        <tr>\n",
       "            <th>title</th>\n",
       "            <th>popularity</th>\n",
       "        </tr>\n",
       "    </thead>\n",
       "    <tbody>\n",
       "        <tr>\n",
       "            <td>District 9</td>\n",
       "            <td>63.13678</td>\n",
       "        </tr>\n",
       "        <tr>\n",
       "            <td>Blood Diamond</td>\n",
       "            <td>52.792678</td>\n",
       "        </tr>\n",
       "        <tr>\n",
       "            <td>Tsotsi</td>\n",
       "            <td>2.504169</td>\n",
       "        </tr>\n",
       "        <tr>\n",
       "            <td>Gangster&#x27;s Paradise: Jerusalema</td>\n",
       "            <td>1.717376</td>\n",
       "        </tr>\n",
       "    </tbody>\n",
       "</table>"
      ],
      "text/plain": [
       "[('District 9', 63.13678),\n",
       " ('Blood Diamond', 52.792678),\n",
       " ('Tsotsi', 2.504169),\n",
       " (\"Gangster's Paradise: Jerusalema\", 1.717376)]"
      ]
     },
     "execution_count": 125,
     "metadata": {},
     "output_type": "execute_result"
    }
   ],
   "source": [
    "%%sql\n",
    "SELECT title, popularity\n",
    "FROM movies\n",
    "WHERE title IN ('Blood Diamond', \"Gangster's Paradise: Jerusalema\", \"District 9\", \"Tsotsi\")\n",
    "ORDER BY popularity DESC;"
   ]
  },
  {
   "cell_type": "code",
   "execution_count": null,
   "id": "9d6e5af9",
   "metadata": {},
   "outputs": [],
   "source": [
    "# \"\"\"UPDATE languages\n",
    "# SET name = 'Chinese'\n",
    "# WHERE iso_code = 'zh';\"\"\"\n"
   ]
  },
  {
   "cell_type": "code",
   "execution_count": null,
   "id": "319147ae",
   "metadata": {},
   "outputs": [],
   "source": [
    "# INSERT INTO genres (genre_id, name)\n",
    "# VALUES (10, 'Sport');\n"
   ]
  },
  {
   "cell_type": "code",
   "execution_count": null,
   "id": "548e92d8",
   "metadata": {},
   "outputs": [],
   "source": [
    "# DELETE FROM genremap WHERE genre_id = 35 AND movie_id = 888;"
   ]
  },
  {
   "cell_type": "code",
   "execution_count": null,
   "id": "6e22de20",
   "metadata": {},
   "outputs": [],
   "source": []
  },
  {
   "cell_type": "code",
   "execution_count": 128,
   "id": "25df4438",
   "metadata": {},
   "outputs": [
    {
     "name": "stdout",
     "output_type": "stream",
     "text": [
      " * sqlite:///TMDB.db\n",
      "Done.\n"
     ]
    },
    {
     "data": {
      "text/html": [
       "<table>\n",
       "    <thead>\n",
       "        <tr>\n",
       "            <th>movie_id</th>\n",
       "            <th>title</th>\n",
       "            <th>release_date</th>\n",
       "            <th>budget</th>\n",
       "            <th>homepage</th>\n",
       "            <th>original_language</th>\n",
       "            <th>original_title</th>\n",
       "            <th>overview</th>\n",
       "            <th>popularity</th>\n",
       "            <th>revenue</th>\n",
       "            <th>runtime</th>\n",
       "            <th>release_status</th>\n",
       "            <th>tagline</th>\n",
       "            <th>vote_average</th>\n",
       "            <th>vote_count</th>\n",
       "        </tr>\n",
       "    </thead>\n",
       "    <tbody>\n",
       "        <tr>\n",
       "            <td>380097</td>\n",
       "            <td>America Is Still the Place</td>\n",
       "            <td>None</td>\n",
       "            <td>0</td>\n",
       "            <td>None</td>\n",
       "            <td>en</td>\n",
       "            <td>America Is Still the Place</td>\n",
       "            <td>&quot;1971 post civil rights San Francisco seemed like the perfect place for a black Korean War veteran and his family to realize their dream of economic independence and his own chance to be his a &quot;&quot;boss&quot;&quot;. Charlie Walker would soon find out how naive he was. In a city full of impostors and naysayers, he refused to take &quot;&quot;No&quot;&quot; for an answer. Until a catastrophic disaster opened a door that had never been open to a black man before. This is a story about what happened when he stepped through that door, with both feet!.&quot;</td>\n",
       "            <td>0.0</td>\n",
       "            <td>0.0</td>\n",
       "            <td>0.0</td>\n",
       "            <td>Released</td>\n",
       "            <td>None</td>\n",
       "            <td>0.0</td>\n",
       "            <td>0</td>\n",
       "        </tr>\n",
       "        <tr>\n",
       "            <td>3059</td>\n",
       "            <td>Intolerance</td>\n",
       "            <td>1916-09-04 00:00:00.000000</td>\n",
       "            <td>385907</td>\n",
       "            <td>None</td>\n",
       "            <td>en</td>\n",
       "            <td>Intolerance</td>\n",
       "            <td>The story of a poor young woman, separated by prejudice from her husband and baby, is interwoven with tales of intolerance from throughout history.</td>\n",
       "            <td>3.232447</td>\n",
       "            <td>8394751.0</td>\n",
       "            <td>197.0</td>\n",
       "            <td>Released</td>\n",
       "            <td>The Cruel Hand of Intolerance</td>\n",
       "            <td>7.4</td>\n",
       "            <td>60</td>\n",
       "        </tr>\n",
       "        <tr>\n",
       "            <td>3060</td>\n",
       "            <td>The Big Parade</td>\n",
       "            <td>1925-11-05 00:00:00.000000</td>\n",
       "            <td>245000</td>\n",
       "            <td>None</td>\n",
       "            <td>en</td>\n",
       "            <td>The Big Parade</td>\n",
       "            <td>The story of an idle rich boy who joins the US Army&#x27;s Rainbow Division and is sent to France to fight in World War I, becomes friends with two working class men, experiences the horrors of trench warfare, and finds love with a French girl.</td>\n",
       "            <td>0.785744</td>\n",
       "            <td>22000000.0</td>\n",
       "            <td>151.0</td>\n",
       "            <td>Released</td>\n",
       "            <td>None</td>\n",
       "            <td>7.0</td>\n",
       "            <td>21</td>\n",
       "        </tr>\n",
       "        <tr>\n",
       "            <td>19</td>\n",
       "            <td>Metropolis</td>\n",
       "            <td>1927-01-10 00:00:00.000000</td>\n",
       "            <td>92620000</td>\n",
       "            <td>None</td>\n",
       "            <td>de</td>\n",
       "            <td>Metropolis</td>\n",
       "            <td>In a futuristic city sharply divided between the working class and the city planners, the son of the city&#x27;s mastermind falls in love with a working class prophet who predicts the coming of a savior to mediate their differences.</td>\n",
       "            <td>32.351527</td>\n",
       "            <td>650422.0</td>\n",
       "            <td>153.0</td>\n",
       "            <td>Released</td>\n",
       "            <td>There can be no understanding between the hands and the brain unless the heart acts as mediator.</td>\n",
       "            <td>8.0</td>\n",
       "            <td>657</td>\n",
       "        </tr>\n",
       "        <tr>\n",
       "            <td>905</td>\n",
       "            <td>Pandora&#x27;s Box</td>\n",
       "            <td>1929-01-30 00:00:00.000000</td>\n",
       "            <td>0</td>\n",
       "            <td>None</td>\n",
       "            <td>de</td>\n",
       "            <td>Die Bnchse der Pandora</td>\n",
       "            <td>The rise and inevitable fall of an amoral but naive young woman whose insouciant eroticism inspires lust and violence in those around her.</td>\n",
       "            <td>1.824184</td>\n",
       "            <td>0.0</td>\n",
       "            <td>109.0</td>\n",
       "            <td>Released</td>\n",
       "            <td>None</td>\n",
       "            <td>7.6</td>\n",
       "            <td>45</td>\n",
       "        </tr>\n",
       "        <tr>\n",
       "            <td>65203</td>\n",
       "            <td>The Broadway Melody</td>\n",
       "            <td>1929-02-08 00:00:00.000000</td>\n",
       "            <td>379000</td>\n",
       "            <td>None</td>\n",
       "            <td>en</td>\n",
       "            <td>The Broadway Melody</td>\n",
       "            <td>Harriet and Queenie Mahoney, a vaudeville act, come to Broadway, where their friend Eddie Kerns needs them for his number in one of Francis Zanfield&#x27;s shows. Eddie was in love with Harriet, but when he meets Queenie, he falls in love to her, but she is courted by Jock Warriner, a member of the New Yorker high society. It takes a while till Queenie recognizes, that she is for Jock nothing more than a toy, and it also takes a while till Harriet recognizes, that Eddie is in love with Queenie</td>\n",
       "            <td>0.968865</td>\n",
       "            <td>4358000.0</td>\n",
       "            <td>100.0</td>\n",
       "            <td>Released</td>\n",
       "            <td>The pulsating drama of Broadway&#x27;s bared heart speaks and sings with a voice to stir your soul!</td>\n",
       "            <td>5.0</td>\n",
       "            <td>19</td>\n",
       "        </tr>\n",
       "        <tr>\n",
       "            <td>22301</td>\n",
       "            <td>Hell&#x27;s Angels</td>\n",
       "            <td>1930-11-15 00:00:00.000000</td>\n",
       "            <td>3950000</td>\n",
       "            <td>None</td>\n",
       "            <td>en</td>\n",
       "            <td>Hell&#x27;s Angels</td>\n",
       "            <td>Two brothers attending Oxford enlist with the Royal Flying Corps when World War I breaks out. Roy and Monte Rutledge have very different personalities. Monte is a freewheeling womanizer, even with his brother&#x27;s girlfriend Helen. He also proves to have a yellow streak when it comes to his Night Patrol duties. Roy is made of strong moral fiber and attempts to keep his brother in line. Both volunteer for an extremely risky two man bombing mission for different reasons. Monte wants to lose his cowardly reputation and Roy seeks to protect his brother. Roy loves Helen; Helen enjoys an affair with Monte; before they leave on their mission over Germany they find her in still another man&#x27;s arms.  Their assignment to knock out a strategic German munitions facility is a booming success, but with a squadron of fighters bearing down on them afterwards, escape seems unlikely.</td>\n",
       "            <td>8.484123</td>\n",
       "            <td>8000000.0</td>\n",
       "            <td>127.0</td>\n",
       "            <td>Released</td>\n",
       "            <td>Howard Hughes&#x27; Thrilling Multi-Million Dollar Air Spectacle</td>\n",
       "            <td>6.1</td>\n",
       "            <td>19</td>\n",
       "        </tr>\n",
       "        <tr>\n",
       "            <td>22649</td>\n",
       "            <td>A Farewell to Arms</td>\n",
       "            <td>1932-12-08 00:00:00.000000</td>\n",
       "            <td>4</td>\n",
       "            <td>None</td>\n",
       "            <td>en</td>\n",
       "            <td>A Farewell to Arms</td>\n",
       "            <td>British nurse Catherine Barkley (Helen Hayes) and American Lieutenant Frederic Henry (Gary Cooper) fall in love during the First World War in Italy. Eventually separated by Frederic&#x27;s transfer, tremendous challenges and difficult decisions face each, as the war rages on. Academy Awards winner for Best Cinematography and for Best Sound, Recording. Nominated for Best Picture and for Best Art Direction.</td>\n",
       "            <td>1.199451</td>\n",
       "            <td>25.0</td>\n",
       "            <td>89.0</td>\n",
       "            <td>Released</td>\n",
       "            <td>Every woman who has loved will understand</td>\n",
       "            <td>6.2</td>\n",
       "            <td>28</td>\n",
       "        </tr>\n",
       "        <tr>\n",
       "            <td>3062</td>\n",
       "            <td>42nd Street</td>\n",
       "            <td>1933-02-02 00:00:00.000000</td>\n",
       "            <td>439000</td>\n",
       "            <td>None</td>\n",
       "            <td>en</td>\n",
       "            <td>42nd Street</td>\n",
       "            <td>A producer puts on what may be his last Broadway show, and at the last moment a chorus girl has to replace the star.</td>\n",
       "            <td>1.933366</td>\n",
       "            <td>2281000.0</td>\n",
       "            <td>89.0</td>\n",
       "            <td>Released</td>\n",
       "            <td>None</td>\n",
       "            <td>6.1</td>\n",
       "            <td>37</td>\n",
       "        </tr>\n",
       "        <tr>\n",
       "            <td>43595</td>\n",
       "            <td>She Done Him Wrong</td>\n",
       "            <td>1933-02-09 00:00:00.000000</td>\n",
       "            <td>200000</td>\n",
       "            <td>None</td>\n",
       "            <td>en</td>\n",
       "            <td>She Done Him Wrong</td>\n",
       "            <td>&quot;New York singer and nightclub owner Lady Lou has more men friends than you can imagine. Unfortunately one of them is a vicious criminal who&#x27;s escaped and is on the way to see &quot;&quot;his&quot;&quot; girl, not realising she hasn&#x27;t exactly been faithful in his absence. Help is at hand in the form of young Captain Cummings a local temperance league leader though.&quot;</td>\n",
       "            <td>0.622752</td>\n",
       "            <td>2200000.0</td>\n",
       "            <td>66.0</td>\n",
       "            <td>Released</td>\n",
       "            <td>Mae West gives a &#x27;Hot Time&#x27; to the nation!</td>\n",
       "            <td>5.1</td>\n",
       "            <td>27</td>\n",
       "        </tr>\n",
       "    </tbody>\n",
       "</table>"
      ],
      "text/plain": [
       "[(380097, 'America Is Still the Place', None, 0, None, 'en', 'America Is Still the Place', '\"1971 post civil rights San Francisco seemed like the perfect place for a black Korean War veteran and his family to realize their dream of economic  ... (222 characters truncated) ... pened a door that had never been open to a black man before. This is a story about what happened when he stepped through that door, with both feet!.\"', 0.0, 0.0, 0.0, 'Released', None, 0.0, 0),\n",
       " (3059, 'Intolerance', '1916-09-04 00:00:00.000000', 385907, None, 'en', 'Intolerance', 'The story of a poor young woman, separated by prejudice from her husband and baby, is interwoven with tales of intolerance from throughout history.', 3.232447, 8394751.0, 197.0, 'Released', 'The Cruel Hand of Intolerance', 7.4, 60),\n",
       " (3060, 'The Big Parade', '1925-11-05 00:00:00.000000', 245000, None, 'en', 'The Big Parade', \"The story of an idle rich boy who joins the US Army's Rainbow Division and is sent to France to fight in World War I, becomes friends with two working class men, experiences the horrors of trench warfare, and finds love with a French girl.\", 0.785744, 22000000.0, 151.0, 'Released', None, 7.0, 21),\n",
       " (19, 'Metropolis', '1927-01-10 00:00:00.000000', 92620000, None, 'de', 'Metropolis', \"In a futuristic city sharply divided between the working class and the city planners, the son of the city's mastermind falls in love with a working class prophet who predicts the coming of a savior to mediate their differences.\", 32.351527, 650422.0, 153.0, 'Released', 'There can be no understanding between the hands and the brain unless the heart acts as mediator.', 8.0, 657),\n",
       " (905, \"Pandora's Box\", '1929-01-30 00:00:00.000000', 0, None, 'de', 'Die Bnchse der Pandora', 'The rise and inevitable fall of an amoral but naive young woman whose insouciant eroticism inspires lust and violence in those around her.', 1.824184, 0.0, 109.0, 'Released', None, 7.6, 45),\n",
       " (65203, 'The Broadway Melody', '1929-02-08 00:00:00.000000', 379000, None, 'en', 'The Broadway Melody', \"Harriet and Queenie Mahoney, a vaudeville act, come to Broadway, where their friend Eddie Kerns needs them for his number in one of Francis Zanfield' ... (195 characters truncated) ... eenie recognizes, that she is for Jock nothing more than a toy, and it also takes a while till Harriet recognizes, that Eddie is in love with Queenie\", 0.968865, 4358000.0, 100.0, 'Released', \"The pulsating drama of Broadway's bared heart speaks and sings with a voice to stir your soul!\", 5.0, 19),\n",
       " (22301, \"Hell's Angels\", '1930-11-15 00:00:00.000000', 3950000, None, 'en', \"Hell's Angels\", \"Two brothers attending Oxford enlist with the Royal Flying Corps when World War I breaks out. Roy and Monte Rutledge have very different personalitie ... (576 characters truncated) ... t a strategic German munitions facility is a booming success, but with a squadron of fighters bearing down on them afterwards, escape seems unlikely.\", 8.484123, 8000000.0, 127.0, 'Released', \"Howard Hughes' Thrilling Multi-Million Dollar Air Spectacle\", 6.1, 19),\n",
       " (22649, 'A Farewell to Arms', '1932-12-08 00:00:00.000000', 4, None, 'en', 'A Farewell to Arms', \"British nurse Catherine Barkley (Helen Hayes) and American Lieutenant Frederic Henry (Gary Cooper) fall in love during the First World War in Italy.  ... (105 characters truncated) ... the war rages on. Academy Awards winner for Best Cinematography and for Best Sound, Recording. Nominated for Best Picture and for Best Art Direction.\", 1.199451, 25.0, 89.0, 'Released', 'Every woman who has loved will understand', 6.2, 28),\n",
       " (3062, '42nd Street', '1933-02-02 00:00:00.000000', 439000, None, 'en', '42nd Street', 'A producer puts on what may be his last Broadway show, and at the last moment a chorus girl has to replace the star.', 1.933366, 2281000.0, 89.0, 'Released', None, 6.1, 37),\n",
       " (43595, 'She Done Him Wrong', '1933-02-09 00:00:00.000000', 200000, None, 'en', 'She Done Him Wrong', '\"New York singer and nightclub owner Lady Lou has more men friends than you can imagine. Unfortunately one of them is a vicious criminal who\\'s escap ... (52 characters truncated) ... ing she hasn\\'t exactly been faithful in his absence. Help is at hand in the form of young Captain Cummings a local temperance league leader though.\"', 0.622752, 2200000.0, 66.0, 'Released', \"Mae West gives a 'Hot Time' to the nation!\", 5.1, 27)]"
      ]
     },
     "execution_count": 128,
     "metadata": {},
     "output_type": "execute_result"
    }
   ],
   "source": [
    "%%sql\n",
    "SELECT * \n",
    "FROM movies \n",
    "ORDER BY release_date \n",
    "ASC LIMIT 10"
   ]
  },
  {
   "cell_type": "code",
   "execution_count": null,
   "id": "5937adf8",
   "metadata": {},
   "outputs": [],
   "source": [
    "# ALTER TABLE languages ADD language_english_name varchar(50);"
   ]
  },
  {
   "cell_type": "code",
   "execution_count": 4,
   "id": "a4df465d",
   "metadata": {},
   "outputs": [
    {
     "name": "stdout",
     "output_type": "stream",
     "text": [
      " * sqlite:///TMDB.db\n",
      "(sqlite3.OperationalError) near \"FROM\": syntax error\n",
      "[SQL: SELECT TOP(10) * \n",
      "FROM movies \n",
      "ORDER BY release_date DESC]\n",
      "(Background on this error at: https://sqlalche.me/e/20/e3q8)\n"
     ]
    }
   ],
   "source": [
    "%%sql\n",
    "SELECT TOP(10) * \n",
    "FROM movies \n",
    "ORDER BY release_date DESC "
   ]
  },
  {
   "cell_type": "code",
   "execution_count": 5,
   "id": "06ef8153",
   "metadata": {},
   "outputs": [
    {
     "name": "stdout",
     "output_type": "stream",
     "text": [
      " * sqlite:///TMDB.db\n",
      "(sqlite3.OperationalError) near \"FROM\": syntax error\n",
      "[SQL: SELECT TOP(10) * FROM movies ORDER BY release_date ASC]\n",
      "(Background on this error at: https://sqlalche.me/e/20/e3q8)\n"
     ]
    }
   ],
   "source": [
    "%%sql\n",
    "SELECT TOP(10) * FROM movies ORDER BY release_date ASC"
   ]
  },
  {
   "cell_type": "code",
   "execution_count": null,
   "id": "4a2e8a2e",
   "metadata": {},
   "outputs": [],
   "source": []
  }
 ],
 "metadata": {
  "kernelspec": {
   "display_name": "Python 3 (ipykernel)",
   "language": "python",
   "name": "python3"
  },
  "language_info": {
   "codemirror_mode": {
    "name": "ipython",
    "version": 3
   },
   "file_extension": ".py",
   "mimetype": "text/x-python",
   "name": "python",
   "nbconvert_exporter": "python",
   "pygments_lexer": "ipython3",
   "version": "3.9.12"
  }
 },
 "nbformat": 4,
 "nbformat_minor": 5
}
